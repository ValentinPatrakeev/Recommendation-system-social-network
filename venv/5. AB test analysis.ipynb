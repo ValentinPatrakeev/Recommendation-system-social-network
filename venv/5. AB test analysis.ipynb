{
 "cells": [
  {
   "cell_type": "code",
   "execution_count": 1,
   "id": "f678fc05-a0b3-4544-a2df-f3e6acf25e4a",
   "metadata": {},
   "outputs": [],
   "source": [
    "import pandas as pd\n",
    "import datetime\n",
    "import seaborn as sns\n",
    "import matplotlib.pyplot as plt\n",
    "from datetime import datetime, timedelta"
   ]
  },
  {
   "cell_type": "markdown",
   "id": "c35a218e-fd7b-4ec7-9548-cef0b77a8934",
   "metadata": {},
   "source": [
    "**views** *Our service replies with recommendations* - in them we know which user we recommended what to and which group they were assigned to. And, of course, we know the moment in time when this happened.."
   ]
  },
  {
   "cell_type": "markdown",
   "id": "488e1916-795a-42ce-9db3-3a27c3b9708d",
   "metadata": {},
   "source": [
    "**likes** *Data about likes* - in it we know which user liked which post, including the point in time when this happened."
   ]
  },
  {
   "cell_type": "code",
   "execution_count": 2,
   "id": "d0d526bb-e0b1-48b6-89fe-0ec0cfd2cf79",
   "metadata": {},
   "outputs": [],
   "source": [
    "views, likes = pd.read_csv(\"AB_test/views.csv\"), pd.read_csv(\"AB_test/likes.csv\")"
   ]
  },
  {
   "cell_type": "code",
   "execution_count": 48,
   "id": "e9614ca1-186b-4d85-bf40-dfcbd9ea1bee",
   "metadata": {},
   "outputs": [
    {
     "data": {
      "text/html": [
       "<div>\n",
       "<style scoped>\n",
       "    .dataframe tbody tr th:only-of-type {\n",
       "        vertical-align: middle;\n",
       "    }\n",
       "\n",
       "    .dataframe tbody tr th {\n",
       "        vertical-align: top;\n",
       "    }\n",
       "\n",
       "    .dataframe thead th {\n",
       "        text-align: right;\n",
       "    }\n",
       "</style>\n",
       "<table border=\"1\" class=\"dataframe\">\n",
       "  <thead>\n",
       "    <tr style=\"text-align: right;\">\n",
       "      <th></th>\n",
       "      <th>user_id</th>\n",
       "      <th>exp_group</th>\n",
       "      <th>recommendations</th>\n",
       "      <th>timestamp</th>\n",
       "    </tr>\n",
       "  </thead>\n",
       "  <tbody>\n",
       "    <tr>\n",
       "      <th>0</th>\n",
       "      <td>128381</td>\n",
       "      <td>control</td>\n",
       "      <td>[3644 4529 4704 5294 4808]</td>\n",
       "      <td>1654030803</td>\n",
       "    </tr>\n",
       "    <tr>\n",
       "      <th>1</th>\n",
       "      <td>146885</td>\n",
       "      <td>test</td>\n",
       "      <td>[1399 1076  797 7015 5942]</td>\n",
       "      <td>1654030811</td>\n",
       "    </tr>\n",
       "    <tr>\n",
       "      <th>2</th>\n",
       "      <td>50948</td>\n",
       "      <td>test</td>\n",
       "      <td>[2315 3037 1861 6567 4093]</td>\n",
       "      <td>1654030825</td>\n",
       "    </tr>\n",
       "    <tr>\n",
       "      <th>3</th>\n",
       "      <td>37703</td>\n",
       "      <td>test</td>\n",
       "      <td>[2842 1949  162 1588 6794]</td>\n",
       "      <td>1654030826</td>\n",
       "    </tr>\n",
       "    <tr>\n",
       "      <th>4</th>\n",
       "      <td>14661</td>\n",
       "      <td>test</td>\n",
       "      <td>[2395 5881 5648 3417  673]</td>\n",
       "      <td>1654030829</td>\n",
       "    </tr>\n",
       "    <tr>\n",
       "      <th>...</th>\n",
       "      <td>...</td>\n",
       "      <td>...</td>\n",
       "      <td>...</td>\n",
       "      <td>...</td>\n",
       "    </tr>\n",
       "    <tr>\n",
       "      <th>193290</th>\n",
       "      <td>158267</td>\n",
       "      <td>test</td>\n",
       "      <td>[1733 6834 4380 1915 1627]</td>\n",
       "      <td>1655240340</td>\n",
       "    </tr>\n",
       "    <tr>\n",
       "      <th>193291</th>\n",
       "      <td>63527</td>\n",
       "      <td>control</td>\n",
       "      <td>[2454  191 3873 6404 1588]</td>\n",
       "      <td>1655240347</td>\n",
       "    </tr>\n",
       "    <tr>\n",
       "      <th>193292</th>\n",
       "      <td>52169</td>\n",
       "      <td>test</td>\n",
       "      <td>[1368 1709 1616  798 5305]</td>\n",
       "      <td>1655240354</td>\n",
       "    </tr>\n",
       "    <tr>\n",
       "      <th>193293</th>\n",
       "      <td>142402</td>\n",
       "      <td>test</td>\n",
       "      <td>[5895 6984 1978 6548 6106]</td>\n",
       "      <td>1655240373</td>\n",
       "    </tr>\n",
       "    <tr>\n",
       "      <th>193294</th>\n",
       "      <td>72259</td>\n",
       "      <td>control</td>\n",
       "      <td>[6117 1255 6567 3587 3811]</td>\n",
       "      <td>1655240388</td>\n",
       "    </tr>\n",
       "  </tbody>\n",
       "</table>\n",
       "<p>193287 rows × 4 columns</p>\n",
       "</div>"
      ],
      "text/plain": [
       "        user_id exp_group             recommendations   timestamp\n",
       "0        128381   control  [3644 4529 4704 5294 4808]  1654030803\n",
       "1        146885      test  [1399 1076  797 7015 5942]  1654030811\n",
       "2         50948      test  [2315 3037 1861 6567 4093]  1654030825\n",
       "3         37703      test  [2842 1949  162 1588 6794]  1654030826\n",
       "4         14661      test  [2395 5881 5648 3417  673]  1654030829\n",
       "...         ...       ...                         ...         ...\n",
       "193290   158267      test  [1733 6834 4380 1915 1627]  1655240340\n",
       "193291    63527   control  [2454  191 3873 6404 1588]  1655240347\n",
       "193292    52169      test  [1368 1709 1616  798 5305]  1655240354\n",
       "193293   142402      test  [5895 6984 1978 6548 6106]  1655240373\n",
       "193294    72259   control  [6117 1255 6567 3587 3811]  1655240388\n",
       "\n",
       "[193287 rows x 4 columns]"
      ]
     },
     "execution_count": 48,
     "metadata": {},
     "output_type": "execute_result"
    }
   ],
   "source": [
    "views"
   ]
  },
  {
   "cell_type": "code",
   "execution_count": 4,
   "id": "8284e05a-89f8-4758-b378-62429d82e291",
   "metadata": {},
   "outputs": [
    {
     "data": {
      "text/html": [
       "<div>\n",
       "<style scoped>\n",
       "    .dataframe tbody tr th:only-of-type {\n",
       "        vertical-align: middle;\n",
       "    }\n",
       "\n",
       "    .dataframe tbody tr th {\n",
       "        vertical-align: top;\n",
       "    }\n",
       "\n",
       "    .dataframe thead th {\n",
       "        text-align: right;\n",
       "    }\n",
       "</style>\n",
       "<table border=\"1\" class=\"dataframe\">\n",
       "  <thead>\n",
       "    <tr style=\"text-align: right;\">\n",
       "      <th></th>\n",
       "      <th>user_id</th>\n",
       "      <th>post_id</th>\n",
       "      <th>timestamp</th>\n",
       "    </tr>\n",
       "  </thead>\n",
       "  <tbody>\n",
       "    <tr>\n",
       "      <th>0</th>\n",
       "      <td>128381</td>\n",
       "      <td>4704</td>\n",
       "      <td>1654030804</td>\n",
       "    </tr>\n",
       "    <tr>\n",
       "      <th>1</th>\n",
       "      <td>146885</td>\n",
       "      <td>1399</td>\n",
       "      <td>1654030816</td>\n",
       "    </tr>\n",
       "    <tr>\n",
       "      <th>2</th>\n",
       "      <td>50948</td>\n",
       "      <td>2315</td>\n",
       "      <td>1654030828</td>\n",
       "    </tr>\n",
       "    <tr>\n",
       "      <th>3</th>\n",
       "      <td>14661</td>\n",
       "      <td>673</td>\n",
       "      <td>1654030831</td>\n",
       "    </tr>\n",
       "    <tr>\n",
       "      <th>4</th>\n",
       "      <td>37703</td>\n",
       "      <td>1588</td>\n",
       "      <td>1654030833</td>\n",
       "    </tr>\n",
       "  </tbody>\n",
       "</table>\n",
       "</div>"
      ],
      "text/plain": [
       "   user_id  post_id   timestamp\n",
       "0   128381     4704  1654030804\n",
       "1   146885     1399  1654030816\n",
       "2    50948     2315  1654030828\n",
       "3    14661      673  1654030831\n",
       "4    37703     1588  1654030833"
      ]
     },
     "execution_count": 4,
     "metadata": {},
     "output_type": "execute_result"
    }
   ],
   "source": [
    "likes.head()"
   ]
  },
  {
   "cell_type": "code",
   "execution_count": 5,
   "id": "eaa33bcd-6d50-4e8c-8a9c-c7a2700562c5",
   "metadata": {},
   "outputs": [
    {
     "data": {
      "text/plain": [
       "(96378, 96917)"
      ]
     },
     "execution_count": 5,
     "metadata": {},
     "output_type": "execute_result"
    }
   ],
   "source": [
    "views[views.exp_group=='control'].shape[0], views[views.exp_group=='test'].shape[0]"
   ]
  },
  {
   "cell_type": "code",
   "execution_count": 6,
   "id": "30567300-d602-448c-a81c-fd56150d96d1",
   "metadata": {},
   "outputs": [],
   "source": [
    "#Let's look at exp_group and check if there are users who are in both groups\n",
    "common_users = set(views[views.exp_group=='control']['user_id']).intersection(set(views[views.exp_group=='test']['user_id']))"
   ]
  },
  {
   "cell_type": "code",
   "execution_count": 7,
   "id": "3fcf37cb-1474-4f2d-97f8-a89e7851935a",
   "metadata": {},
   "outputs": [
    {
     "data": {
      "text/plain": [
       "{25623, 55788, 142283, 148670}"
      ]
     },
     "execution_count": 7,
     "metadata": {},
     "output_type": "execute_result"
    }
   ],
   "source": [
    "#find users that get into in both group test and control\n",
    "common_users"
   ]
  },
  {
   "cell_type": "code",
   "execution_count": 8,
   "id": "96c4ddf4-11c2-43e2-931e-9420d83aeaa7",
   "metadata": {},
   "outputs": [
    {
     "data": {
      "text/html": [
       "<div>\n",
       "<style scoped>\n",
       "    .dataframe tbody tr th:only-of-type {\n",
       "        vertical-align: middle;\n",
       "    }\n",
       "\n",
       "    .dataframe tbody tr th {\n",
       "        vertical-align: top;\n",
       "    }\n",
       "\n",
       "    .dataframe thead th {\n",
       "        text-align: right;\n",
       "    }\n",
       "</style>\n",
       "<table border=\"1\" class=\"dataframe\">\n",
       "  <thead>\n",
       "    <tr style=\"text-align: right;\">\n",
       "      <th></th>\n",
       "      <th>user_id</th>\n",
       "      <th>exp_group</th>\n",
       "      <th>recommendations</th>\n",
       "      <th>timestamp</th>\n",
       "    </tr>\n",
       "  </thead>\n",
       "  <tbody>\n",
       "    <tr>\n",
       "      <th>145119</th>\n",
       "      <td>25623</td>\n",
       "      <td>control</td>\n",
       "      <td>[3101 2130 3378  998 6071]</td>\n",
       "      <td>1654936834</td>\n",
       "    </tr>\n",
       "    <tr>\n",
       "      <th>39787</th>\n",
       "      <td>25623</td>\n",
       "      <td>test</td>\n",
       "      <td>[1529 6456 1549 4870 4651]</td>\n",
       "      <td>1654280154</td>\n",
       "    </tr>\n",
       "    <tr>\n",
       "      <th>158674</th>\n",
       "      <td>25623</td>\n",
       "      <td>test</td>\n",
       "      <td>[3106 2705  962 4876 6378]</td>\n",
       "      <td>1655021971</td>\n",
       "    </tr>\n",
       "    <tr>\n",
       "      <th>87340</th>\n",
       "      <td>25623</td>\n",
       "      <td>test</td>\n",
       "      <td>[3775 3680  627 1800 1020]</td>\n",
       "      <td>1654576014</td>\n",
       "    </tr>\n",
       "    <tr>\n",
       "      <th>133592</th>\n",
       "      <td>25623</td>\n",
       "      <td>test</td>\n",
       "      <td>[7042 5439 7185 3703 7128]</td>\n",
       "      <td>1654864699</td>\n",
       "    </tr>\n",
       "    <tr>\n",
       "      <th>178457</th>\n",
       "      <td>55788</td>\n",
       "      <td>test</td>\n",
       "      <td>[2669 3922 4123 6220 3425]</td>\n",
       "      <td>1655147577</td>\n",
       "    </tr>\n",
       "    <tr>\n",
       "      <th>117468</th>\n",
       "      <td>55788</td>\n",
       "      <td>test</td>\n",
       "      <td>[1174 4769 1487 5370  894]</td>\n",
       "      <td>1654764129</td>\n",
       "    </tr>\n",
       "    <tr>\n",
       "      <th>39653</th>\n",
       "      <td>55788</td>\n",
       "      <td>test</td>\n",
       "      <td>[3747 6638 5214 2801 5740]</td>\n",
       "      <td>1654279384</td>\n",
       "    </tr>\n",
       "    <tr>\n",
       "      <th>82515</th>\n",
       "      <td>55788</td>\n",
       "      <td>control</td>\n",
       "      <td>[4970 2990 4592 6611 5483]</td>\n",
       "      <td>1654545938</td>\n",
       "    </tr>\n",
       "    <tr>\n",
       "      <th>100929</th>\n",
       "      <td>142283</td>\n",
       "      <td>control</td>\n",
       "      <td>[5603 4388 1450 6309  545]</td>\n",
       "      <td>1654661140</td>\n",
       "    </tr>\n",
       "    <tr>\n",
       "      <th>46348</th>\n",
       "      <td>142283</td>\n",
       "      <td>test</td>\n",
       "      <td>[6484  611  395 5678 7295]</td>\n",
       "      <td>1654321430</td>\n",
       "    </tr>\n",
       "    <tr>\n",
       "      <th>163129</th>\n",
       "      <td>142283</td>\n",
       "      <td>control</td>\n",
       "      <td>[ 810  993 1744 7281   87]</td>\n",
       "      <td>1655050520</td>\n",
       "    </tr>\n",
       "    <tr>\n",
       "      <th>6179</th>\n",
       "      <td>142283</td>\n",
       "      <td>control</td>\n",
       "      <td>[1109  101 5288 4941  132]</td>\n",
       "      <td>1654069529</td>\n",
       "    </tr>\n",
       "    <tr>\n",
       "      <th>45925</th>\n",
       "      <td>142283</td>\n",
       "      <td>control</td>\n",
       "      <td>[4181 3410  751 1880 1682]</td>\n",
       "      <td>1654318631</td>\n",
       "    </tr>\n",
       "    <tr>\n",
       "      <th>129374</th>\n",
       "      <td>142283</td>\n",
       "      <td>control</td>\n",
       "      <td>[3556  763 3832 1128  163]</td>\n",
       "      <td>1654838897</td>\n",
       "    </tr>\n",
       "    <tr>\n",
       "      <th>158581</th>\n",
       "      <td>148670</td>\n",
       "      <td>test</td>\n",
       "      <td>[2449 1671 3132 2767 5652]</td>\n",
       "      <td>1655021443</td>\n",
       "    </tr>\n",
       "    <tr>\n",
       "      <th>155144</th>\n",
       "      <td>148670</td>\n",
       "      <td>test</td>\n",
       "      <td>[2905  117 5442 7069 3009]</td>\n",
       "      <td>1654999980</td>\n",
       "    </tr>\n",
       "    <tr>\n",
       "      <th>168931</th>\n",
       "      <td>148670</td>\n",
       "      <td>test</td>\n",
       "      <td>[ 606 4533  328 6133 4954]</td>\n",
       "      <td>1655087470</td>\n",
       "    </tr>\n",
       "    <tr>\n",
       "      <th>1311</th>\n",
       "      <td>148670</td>\n",
       "      <td>test</td>\n",
       "      <td>[2992 1368 1261 3901 4471]</td>\n",
       "      <td>1654039282</td>\n",
       "    </tr>\n",
       "    <tr>\n",
       "      <th>121023</th>\n",
       "      <td>148670</td>\n",
       "      <td>test</td>\n",
       "      <td>[3368 1422 6188 1596 2961]</td>\n",
       "      <td>1654786924</td>\n",
       "    </tr>\n",
       "    <tr>\n",
       "      <th>177552</th>\n",
       "      <td>148670</td>\n",
       "      <td>control</td>\n",
       "      <td>[1476  700 6716  684 5242]</td>\n",
       "      <td>1655141736</td>\n",
       "    </tr>\n",
       "    <tr>\n",
       "      <th>100158</th>\n",
       "      <td>148670</td>\n",
       "      <td>test</td>\n",
       "      <td>[1280 1665  878 1134 1820]</td>\n",
       "      <td>1654656225</td>\n",
       "    </tr>\n",
       "    <tr>\n",
       "      <th>41040</th>\n",
       "      <td>148670</td>\n",
       "      <td>test</td>\n",
       "      <td>[1866  622 4374 3756 5424]</td>\n",
       "      <td>1654288069</td>\n",
       "    </tr>\n",
       "    <tr>\n",
       "      <th>30748</th>\n",
       "      <td>148670</td>\n",
       "      <td>test</td>\n",
       "      <td>[7128 1023 1388 6807 5945]</td>\n",
       "      <td>1654223589</td>\n",
       "    </tr>\n",
       "    <tr>\n",
       "      <th>29724</th>\n",
       "      <td>148670</td>\n",
       "      <td>test</td>\n",
       "      <td>[5053 1563 7194  633 1392]</td>\n",
       "      <td>1654217190</td>\n",
       "    </tr>\n",
       "    <tr>\n",
       "      <th>124435</th>\n",
       "      <td>148670</td>\n",
       "      <td>test</td>\n",
       "      <td>[4300 1768 5846 1520 2736]</td>\n",
       "      <td>1654808298</td>\n",
       "    </tr>\n",
       "    <tr>\n",
       "      <th>102601</th>\n",
       "      <td>148670</td>\n",
       "      <td>test</td>\n",
       "      <td>[2441 6189 3291 6900 5053]</td>\n",
       "      <td>1654671597</td>\n",
       "    </tr>\n",
       "  </tbody>\n",
       "</table>\n",
       "</div>"
      ],
      "text/plain": [
       "        user_id exp_group             recommendations   timestamp\n",
       "145119    25623   control  [3101 2130 3378  998 6071]  1654936834\n",
       "39787     25623      test  [1529 6456 1549 4870 4651]  1654280154\n",
       "158674    25623      test  [3106 2705  962 4876 6378]  1655021971\n",
       "87340     25623      test  [3775 3680  627 1800 1020]  1654576014\n",
       "133592    25623      test  [7042 5439 7185 3703 7128]  1654864699\n",
       "178457    55788      test  [2669 3922 4123 6220 3425]  1655147577\n",
       "117468    55788      test  [1174 4769 1487 5370  894]  1654764129\n",
       "39653     55788      test  [3747 6638 5214 2801 5740]  1654279384\n",
       "82515     55788   control  [4970 2990 4592 6611 5483]  1654545938\n",
       "100929   142283   control  [5603 4388 1450 6309  545]  1654661140\n",
       "46348    142283      test  [6484  611  395 5678 7295]  1654321430\n",
       "163129   142283   control  [ 810  993 1744 7281   87]  1655050520\n",
       "6179     142283   control  [1109  101 5288 4941  132]  1654069529\n",
       "45925    142283   control  [4181 3410  751 1880 1682]  1654318631\n",
       "129374   142283   control  [3556  763 3832 1128  163]  1654838897\n",
       "158581   148670      test  [2449 1671 3132 2767 5652]  1655021443\n",
       "155144   148670      test  [2905  117 5442 7069 3009]  1654999980\n",
       "168931   148670      test  [ 606 4533  328 6133 4954]  1655087470\n",
       "1311     148670      test  [2992 1368 1261 3901 4471]  1654039282\n",
       "121023   148670      test  [3368 1422 6188 1596 2961]  1654786924\n",
       "177552   148670   control  [1476  700 6716  684 5242]  1655141736\n",
       "100158   148670      test  [1280 1665  878 1134 1820]  1654656225\n",
       "41040    148670      test  [1866  622 4374 3756 5424]  1654288069\n",
       "30748    148670      test  [7128 1023 1388 6807 5945]  1654223589\n",
       "29724    148670      test  [5053 1563 7194  633 1392]  1654217190\n",
       "124435   148670      test  [4300 1768 5846 1520 2736]  1654808298\n",
       "102601   148670      test  [2441 6189 3291 6900 5053]  1654671597"
      ]
     },
     "execution_count": 8,
     "metadata": {},
     "output_type": "execute_result"
    }
   ],
   "source": [
    "views[views.user_id.isin(common_users)].sort_values(by='user_id')"
   ]
  },
  {
   "cell_type": "code",
   "execution_count": 9,
   "id": "6f0e5b3a-a3f7-43d3-9fb7-2c977705faf4",
   "metadata": {},
   "outputs": [],
   "source": [
    "#delite repeat users from group control (most likely get into was accidentally) \n"
   ]
  },
  {
   "cell_type": "code",
   "execution_count": 10,
   "id": "8c8bae66-823b-400b-bd50-6454fc528276",
   "metadata": {},
   "outputs": [],
   "source": [
    "#delite repeat users from group control (most likely get into was accidentally) \n",
    "views = views[~((views['exp_group']=='control') & (views['user_id'].isin(common_users)))]"
   ]
  },
  {
   "cell_type": "code",
   "execution_count": 11,
   "id": "cb5a2ec2-fef0-493f-a4e2-cf60e88993f3",
   "metadata": {},
   "outputs": [
    {
     "name": "stdout",
     "output_type": "stream",
     "text": [
      "96370 96917\n"
     ]
    },
    {
     "data": {
      "text/plain": [
       "set()"
      ]
     },
     "execution_count": 11,
     "metadata": {},
     "output_type": "execute_result"
    }
   ],
   "source": [
    "#cheack balans quantity users in controll and in test\n",
    "print(views[views.exp_group=='control'].shape[0], views[views.exp_group=='test'].shape[0])\n",
    "set(views[views.exp_group=='control']['user_id']).intersection(set(views[views.exp_group=='test']['user_id']))"
   ]
  },
  {
   "cell_type": "code",
   "execution_count": 12,
   "id": "4a858417-0b16-4576-8d56-5e2c5486e65f",
   "metadata": {},
   "outputs": [
    {
     "data": {
      "text/plain": [
       "65013"
      ]
     },
     "execution_count": 12,
     "metadata": {},
     "output_type": "execute_result"
    }
   ],
   "source": [
    "#amount unique users that we did recommendation\n",
    "len(set(views.user_id))"
   ]
  },
  {
   "cell_type": "code",
   "execution_count": 13,
   "id": "9838e3e4-0ab4-42e6-af84-0f0cad102d44",
   "metadata": {},
   "outputs": [
    {
     "data": {
      "text/plain": [
       "58171"
      ]
     },
     "execution_count": 13,
     "metadata": {},
     "output_type": "execute_result"
    }
   ],
   "source": [
    "#amount unique users that liked\n",
    "len(set(likes.user_id).intersection(set(views.user_id)))"
   ]
  },
  {
   "cell_type": "code",
   "execution_count": 14,
   "id": "3acf8445-0574-45cc-b253-19004be82afe",
   "metadata": {},
   "outputs": [
    {
     "data": {
      "text/plain": [
       "89.48"
      ]
     },
     "execution_count": 14,
     "metadata": {},
     "output_type": "execute_result"
    }
   ],
   "source": [
    "# Views to likes ratio\n",
    "round(len(set(likes.user_id).intersection(set(views.user_id)))/len(set(views.user_id))*100,2)"
   ]
  },
  {
   "cell_type": "code",
   "execution_count": 15,
   "id": "ae8bf5b5-a127-4841-a418-af4ca59ded31",
   "metadata": {},
   "outputs": [
    {
     "data": {
      "text/html": [
       "<div>\n",
       "<style scoped>\n",
       "    .dataframe tbody tr th:only-of-type {\n",
       "        vertical-align: middle;\n",
       "    }\n",
       "\n",
       "    .dataframe tbody tr th {\n",
       "        vertical-align: top;\n",
       "    }\n",
       "\n",
       "    .dataframe thead th {\n",
       "        text-align: right;\n",
       "    }\n",
       "</style>\n",
       "<table border=\"1\" class=\"dataframe\">\n",
       "  <thead>\n",
       "    <tr style=\"text-align: right;\">\n",
       "      <th></th>\n",
       "      <th>likes</th>\n",
       "    </tr>\n",
       "    <tr>\n",
       "      <th>user_id</th>\n",
       "      <th></th>\n",
       "    </tr>\n",
       "  </thead>\n",
       "  <tbody>\n",
       "    <tr>\n",
       "      <th>200</th>\n",
       "      <td>1</td>\n",
       "    </tr>\n",
       "    <tr>\n",
       "      <th>201</th>\n",
       "      <td>3</td>\n",
       "    </tr>\n",
       "    <tr>\n",
       "      <th>202</th>\n",
       "      <td>2</td>\n",
       "    </tr>\n",
       "    <tr>\n",
       "      <th>212</th>\n",
       "      <td>4</td>\n",
       "    </tr>\n",
       "    <tr>\n",
       "      <th>213</th>\n",
       "      <td>7</td>\n",
       "    </tr>\n",
       "    <tr>\n",
       "      <th>...</th>\n",
       "      <td>...</td>\n",
       "    </tr>\n",
       "    <tr>\n",
       "      <th>168525</th>\n",
       "      <td>2</td>\n",
       "    </tr>\n",
       "    <tr>\n",
       "      <th>168532</th>\n",
       "      <td>4</td>\n",
       "    </tr>\n",
       "    <tr>\n",
       "      <th>168538</th>\n",
       "      <td>5</td>\n",
       "    </tr>\n",
       "    <tr>\n",
       "      <th>168541</th>\n",
       "      <td>2</td>\n",
       "    </tr>\n",
       "    <tr>\n",
       "      <th>168545</th>\n",
       "      <td>5</td>\n",
       "    </tr>\n",
       "  </tbody>\n",
       "</table>\n",
       "<p>58171 rows × 1 columns</p>\n",
       "</div>"
      ],
      "text/plain": [
       "         likes\n",
       "user_id       \n",
       "200          1\n",
       "201          3\n",
       "202          2\n",
       "212          4\n",
       "213          7\n",
       "...        ...\n",
       "168525       2\n",
       "168532       4\n",
       "168538       5\n",
       "168541       2\n",
       "168545       5\n",
       "\n",
       "[58171 rows x 1 columns]"
      ]
     },
     "execution_count": 15,
     "metadata": {},
     "output_type": "execute_result"
    }
   ],
   "source": [
    "# amount of likes for each user\n",
    "likes_agg = likes \\\n",
    "    .groupby('user_id') \\\n",
    "    .agg({'user_id':'count'}) \\\n",
    "    .rename(columns={'user_id':'likes'})\n",
    "likes_agg "
   ]
  },
  {
   "cell_type": "code",
   "execution_count": 16,
   "id": "80f2b124-f60c-44c8-a623-0c9c08430777",
   "metadata": {},
   "outputs": [
    {
     "data": {
      "text/html": [
       "<div>\n",
       "<style scoped>\n",
       "    .dataframe tbody tr th:only-of-type {\n",
       "        vertical-align: middle;\n",
       "    }\n",
       "\n",
       "    .dataframe tbody tr th {\n",
       "        vertical-align: top;\n",
       "    }\n",
       "\n",
       "    .dataframe thead th {\n",
       "        text-align: right;\n",
       "    }\n",
       "</style>\n",
       "<table border=\"1\" class=\"dataframe\">\n",
       "  <thead>\n",
       "    <tr style=\"text-align: right;\">\n",
       "      <th></th>\n",
       "      <th>user_id</th>\n",
       "      <th>exp_group</th>\n",
       "    </tr>\n",
       "  </thead>\n",
       "  <tbody>\n",
       "    <tr>\n",
       "      <th>0</th>\n",
       "      <td>200</td>\n",
       "      <td>test</td>\n",
       "    </tr>\n",
       "    <tr>\n",
       "      <th>1</th>\n",
       "      <td>201</td>\n",
       "      <td>test</td>\n",
       "    </tr>\n",
       "    <tr>\n",
       "      <th>2</th>\n",
       "      <td>202</td>\n",
       "      <td>test</td>\n",
       "    </tr>\n",
       "    <tr>\n",
       "      <th>3</th>\n",
       "      <td>212</td>\n",
       "      <td>test</td>\n",
       "    </tr>\n",
       "    <tr>\n",
       "      <th>4</th>\n",
       "      <td>213</td>\n",
       "      <td>test</td>\n",
       "    </tr>\n",
       "    <tr>\n",
       "      <th>...</th>\n",
       "      <td>...</td>\n",
       "      <td>...</td>\n",
       "    </tr>\n",
       "    <tr>\n",
       "      <th>65008</th>\n",
       "      <td>168538</td>\n",
       "      <td>test</td>\n",
       "    </tr>\n",
       "    <tr>\n",
       "      <th>65009</th>\n",
       "      <td>168541</td>\n",
       "      <td>control</td>\n",
       "    </tr>\n",
       "    <tr>\n",
       "      <th>65010</th>\n",
       "      <td>168544</td>\n",
       "      <td>test</td>\n",
       "    </tr>\n",
       "    <tr>\n",
       "      <th>65011</th>\n",
       "      <td>168545</td>\n",
       "      <td>test</td>\n",
       "    </tr>\n",
       "    <tr>\n",
       "      <th>65012</th>\n",
       "      <td>168552</td>\n",
       "      <td>control</td>\n",
       "    </tr>\n",
       "  </tbody>\n",
       "</table>\n",
       "<p>65013 rows × 2 columns</p>\n",
       "</div>"
      ],
      "text/plain": [
       "       user_id exp_group\n",
       "0          200      test\n",
       "1          201      test\n",
       "2          202      test\n",
       "3          212      test\n",
       "4          213      test\n",
       "...        ...       ...\n",
       "65008   168538      test\n",
       "65009   168541   control\n",
       "65010   168544      test\n",
       "65011   168545      test\n",
       "65012   168552   control\n",
       "\n",
       "[65013 rows x 2 columns]"
      ]
     },
     "execution_count": 16,
     "metadata": {},
     "output_type": "execute_result"
    }
   ],
   "source": [
    "#unique users and their group controol or test \n",
    "group_views = views.groupby('user_id')['exp_group'].first().reset_index()\n",
    "group_views"
   ]
  },
  {
   "cell_type": "code",
   "execution_count": 17,
   "id": "e0fc4b2e-f716-48a4-9aaa-0c083a4b819c",
   "metadata": {},
   "outputs": [],
   "source": [
    "#join group_views with like for eache users \n",
    "view_likes_action = group_views.merge(likes_agg , how='left', on='user_id')"
   ]
  },
  {
   "cell_type": "code",
   "execution_count": 18,
   "id": "1e79e98d-058f-4313-a22d-8fc3b04e7878",
   "metadata": {},
   "outputs": [
    {
     "data": {
      "text/html": [
       "<div>\n",
       "<style scoped>\n",
       "    .dataframe tbody tr th:only-of-type {\n",
       "        vertical-align: middle;\n",
       "    }\n",
       "\n",
       "    .dataframe tbody tr th {\n",
       "        vertical-align: top;\n",
       "    }\n",
       "\n",
       "    .dataframe thead th {\n",
       "        text-align: right;\n",
       "    }\n",
       "</style>\n",
       "<table border=\"1\" class=\"dataframe\">\n",
       "  <thead>\n",
       "    <tr style=\"text-align: right;\">\n",
       "      <th></th>\n",
       "      <th>user_id</th>\n",
       "      <th>exp_group</th>\n",
       "      <th>likes</th>\n",
       "    </tr>\n",
       "  </thead>\n",
       "  <tbody>\n",
       "    <tr>\n",
       "      <th>0</th>\n",
       "      <td>200</td>\n",
       "      <td>test</td>\n",
       "      <td>1.0</td>\n",
       "    </tr>\n",
       "    <tr>\n",
       "      <th>1</th>\n",
       "      <td>201</td>\n",
       "      <td>test</td>\n",
       "      <td>3.0</td>\n",
       "    </tr>\n",
       "    <tr>\n",
       "      <th>2</th>\n",
       "      <td>202</td>\n",
       "      <td>test</td>\n",
       "      <td>2.0</td>\n",
       "    </tr>\n",
       "    <tr>\n",
       "      <th>3</th>\n",
       "      <td>212</td>\n",
       "      <td>test</td>\n",
       "      <td>4.0</td>\n",
       "    </tr>\n",
       "    <tr>\n",
       "      <th>4</th>\n",
       "      <td>213</td>\n",
       "      <td>test</td>\n",
       "      <td>7.0</td>\n",
       "    </tr>\n",
       "    <tr>\n",
       "      <th>...</th>\n",
       "      <td>...</td>\n",
       "      <td>...</td>\n",
       "      <td>...</td>\n",
       "    </tr>\n",
       "    <tr>\n",
       "      <th>65008</th>\n",
       "      <td>168538</td>\n",
       "      <td>test</td>\n",
       "      <td>5.0</td>\n",
       "    </tr>\n",
       "    <tr>\n",
       "      <th>65009</th>\n",
       "      <td>168541</td>\n",
       "      <td>control</td>\n",
       "      <td>2.0</td>\n",
       "    </tr>\n",
       "    <tr>\n",
       "      <th>65010</th>\n",
       "      <td>168544</td>\n",
       "      <td>test</td>\n",
       "      <td>0.0</td>\n",
       "    </tr>\n",
       "    <tr>\n",
       "      <th>65011</th>\n",
       "      <td>168545</td>\n",
       "      <td>test</td>\n",
       "      <td>5.0</td>\n",
       "    </tr>\n",
       "    <tr>\n",
       "      <th>65012</th>\n",
       "      <td>168552</td>\n",
       "      <td>control</td>\n",
       "      <td>0.0</td>\n",
       "    </tr>\n",
       "  </tbody>\n",
       "</table>\n",
       "<p>65013 rows × 3 columns</p>\n",
       "</div>"
      ],
      "text/plain": [
       "       user_id exp_group  likes\n",
       "0          200      test    1.0\n",
       "1          201      test    3.0\n",
       "2          202      test    2.0\n",
       "3          212      test    4.0\n",
       "4          213      test    7.0\n",
       "...        ...       ...    ...\n",
       "65008   168538      test    5.0\n",
       "65009   168541   control    2.0\n",
       "65010   168544      test    0.0\n",
       "65011   168545      test    5.0\n",
       "65012   168552   control    0.0\n",
       "\n",
       "[65013 rows x 3 columns]"
      ]
     },
     "execution_count": 18,
     "metadata": {},
     "output_type": "execute_result"
    }
   ],
   "source": [
    "#fill the NaN with 0\n",
    "view_likes_action = view_likes_action.fillna(0.0)\n",
    "view_likes_action"
   ]
  },
  {
   "cell_type": "code",
   "execution_count": 19,
   "id": "86801f50-e2a0-4a73-a657-14c5800e4538",
   "metadata": {},
   "outputs": [],
   "source": [
    "share_of_users_control = len(view_likes_action[(view_likes_action['exp_group']=='control')&(view_likes_action['likes']!=0)])/len(view_likes_action[(view_likes_action['exp_group']=='control')])"
   ]
  },
  {
   "cell_type": "code",
   "execution_count": 20,
   "id": "acfbc483-f196-4cb5-8267-b8e9a2f37f5a",
   "metadata": {},
   "outputs": [],
   "source": [
    "#test with like (one and more) \n",
    "\n",
    "share_of_users_control = len(view_likes_action[(view_likes_action['exp_group']=='control')&(view_likes_action['likes']!=0)])/len(view_likes_action[(view_likes_action['exp_group']=='control')])\n",
    "share_of_users_test = len(view_likes_action[(view_likes_action['exp_group']=='test')&(view_likes_action['likes']!=0)])/len(view_likes_action[(view_likes_action['exp_group']=='test')])"
   ]
  },
  {
   "cell_type": "code",
   "execution_count": 21,
   "id": "e149690c-b40c-4cc4-aabd-a67882739aab",
   "metadata": {},
   "outputs": [
    {
     "data": {
      "text/plain": [
       "(0.8913137557959815, 0.8981722438232863)"
      ]
     },
     "execution_count": 21,
     "metadata": {},
     "output_type": "execute_result"
    }
   ],
   "source": [
    "#rate like of views(one and more ): control group and test group\n",
    "share_of_users_control,share_of_users_test"
   ]
  },
  {
   "cell_type": "code",
   "execution_count": 22,
   "id": "fb5e75bd-0c91-461c-a898-4ef9743ecfef",
   "metadata": {},
   "outputs": [
    {
     "data": {
      "text/plain": [
       "6        4.0\n",
       "7        5.0\n",
       "9        3.0\n",
       "10       3.0\n",
       "11       4.0\n",
       "        ... \n",
       "64998    1.0\n",
       "64999    3.0\n",
       "65001    1.0\n",
       "65005    2.0\n",
       "65009    2.0\n",
       "Name: likes, Length: 28834, dtype: float64"
      ]
     },
     "execution_count": 22,
     "metadata": {},
     "output_type": "execute_result"
    }
   ],
   "source": [
    "view_likes_action[(view_likes_action['exp_group']=='control')&(view_likes_action['likes']!=0)].likes"
   ]
  },
  {
   "cell_type": "code",
   "execution_count": 23,
   "id": "9f1fa2d3-0182-4419-b8a5-4ba60b3aa8dc",
   "metadata": {},
   "outputs": [
    {
     "data": {
      "image/png": "[encoded data removed]",
      "text/plain": [
       "<Figure size 1000x400 with 4 Axes>"
      ]
     },
     "metadata": {},
     "output_type": "display_data"
    }
   ],
   "source": [
    "plt.figure(figsize=(10, 4))\n",
    "\n",
    "ax1 = plt.subplot(2, 2, 1)\n",
    "ax1.set_title('amount one and more likes control group')\n",
    "sns.histplot(view_likes_action[(view_likes_action['exp_group']=='control')&(view_likes_action['likes']!=0)].likes)\n",
    "plt.xlabel('Likes control')\n",
    "\n",
    "ax2 = plt.subplot(2, 2, 2)\n",
    "ax2.set_title('amount one and more likes test group')\n",
    "sns.histplot(view_likes_action[(view_likes_action['exp_group']=='test')&(view_likes_action['likes']!=0)].likes)\n",
    "plt.xlabel('Likes test')\n",
    "plt.subplots_adjust(hspace=0.6, wspace=0.3)\n",
    "ax3 = plt.subplot(2, 2, 3)\n",
    "ax3.set_title('amount likes control group')\n",
    "sns.histplot(view_likes_action[view_likes_action['exp_group']=='control'].likes)\n",
    "plt.xlabel('Likes control')\n",
    "\n",
    "ax4 = plt.subplot(2, 2, 4)\n",
    "ax4.set_title('amount likes test group')\n",
    "sns.histplot(view_likes_action[view_likes_action['exp_group']=='test'].likes)\n",
    "plt.xlabel('Likes test')\n",
    "\n",
    "plt.show()\n",
    "\n"
   ]
  },
  {
   "cell_type": "code",
   "execution_count": 24,
   "id": "6041aa51-736b-4234-bd26-60bee6ed6708",
   "metadata": {},
   "outputs": [
    {
     "data": {
      "text/plain": [
       "MannwhitneyuResult(statistic=416619733.5, pvalue=0.001553463647547211)"
      ]
     },
     "execution_count": 24,
     "metadata": {},
     "output_type": "execute_result"
    }
   ],
   "source": [
    "from scipy.stats import mannwhitneyu\n",
    "\n",
    "mannwhitneyu(\n",
    "    x=view_likes_action[(view_likes_action['exp_group']=='control')&(view_likes_action['likes']!=0)].likes,\n",
    "    y=view_likes_action[(view_likes_action['exp_group']=='test')&(view_likes_action['likes']!=0)].likes\n",
    ")"
   ]
  },
  {
   "cell_type": "code",
   "execution_count": 25,
   "id": "b80fb89f-1196-402e-9c09-6470202b9183",
   "metadata": {},
   "outputs": [
    {
     "data": {
      "text/plain": [
       "MannwhitneyuResult(statistic=518368725.5, pvalue=2.6804547715312987e-05)"
      ]
     },
     "execution_count": 25,
     "metadata": {},
     "output_type": "execute_result"
    }
   ],
   "source": [
    "from scipy.stats import mannwhitneyu\n",
    "\n",
    "mannwhitneyu(\n",
    "    x=view_likes_action[view_likes_action['exp_group']=='control'].likes,\n",
    "    y=view_likes_action[view_likes_action['exp_group']=='test'].likes\n",
    ")"
   ]
  },
  {
   "cell_type": "markdown",
   "id": "bef69254-fc94-4e05-ad0e-5ac80e6661aa",
   "metadata": {},
   "source": [
    "- let's accept level of statistical significance = 0.05\r",
    "- *Test and control groups are observe, because U - test = pvalue=2.68e-05 and  pvalue=0.0015\n",
    "- Both metrics have statistically significantly improved, meaning there are more likesd"
   ]
  },
  {
   "cell_type": "markdown",
   "id": "e5954142-bc3b-4df3-bc2a-da4b79f5e7f4",
   "metadata": {},
   "source": [
    "#### hitrate"
   ]
  },
  {
   "cell_type": "code",
   "execution_count": 118,
   "id": "7267e1b2-3a5c-4939-99af-2391ef311095",
   "metadata": {},
   "outputs": [
    {
     "name": "stdout",
     "output_type": "stream",
     "text": [
      "Getting Hitrate...\n"
     ]
    },
    {
     "data": {
      "text/plain": [
       "0.7132657654161946"
      ]
     },
     "execution_count": 118,
     "metadata": {},
     "output_type": "execute_result"
    }
   ],
   "source": [
    "tmp = pd.merge(views, likes, on='user_id', how='outer')\n",
    "tmp.post_id = tmp.post_id.fillna(-1).astype(int)\n",
    "\n",
    "tmp.recommendations = tmp.recommendations.astype(str)\n",
    "tmp['recommendations'] = tmp.recommendations.apply(\n",
    "    lambda x: list(map(int, filter(bool, x[1:-1].split(' '))))\n",
    ")\n",
    "\n",
    "tmp.sample(5)[['post_id','recommendations']]\n",
    "tmp.post_id = tmp.apply(\n",
    "    lambda row:\n",
    "    -1\n",
    "    if\n",
    "        (row.post_id == -1) | \n",
    "        ((row.timestamp_x > row.timestamp_y) |\n",
    "        (row.timestamp_x + 60 * 60 < row.timestamp_y)) |\n",
    "        (row.post_id not in row.recommendations)\n",
    "    else\n",
    "    row.post_id, axis=1\n",
    ")\n",
    "\n",
    "tmp.sample(5)[['post_id','recommendations']]\n",
    "def agg_hitrate(values):\n",
    "    values = set(values)\n",
    "    if -1 in values and len(values) >= 2:\n",
    "        return 1\n",
    "    elif -1 not in values:\n",
    "        return 1\n",
    "    return 0\n",
    "\n",
    "tmp_agg = (\n",
    "    tmp.groupby(['user_id', 'exp_group', 'timestamp_x'])\n",
    "    .post_id.agg(agg_hitrate)\n",
    ")\n",
    "tmp_agg = tmp_agg.reset_index().rename(\n",
    "    columns={'post_id': 'hitrate'}\n",
    ")\n",
    "\n",
    "print('Getting Hitrate...')\n",
    "hitrate_score = tmp_agg.hitrate.mean()\n",
    "hitrate_score"
   ]
  },
  {
   "cell_type": "code",
   "execution_count": null,
   "id": "05002063-b7f4-4b4d-ad55-ec369240aea8",
   "metadata": {},
   "outputs": [],
   "source": []
  }
 ],
 "metadata": {
  "kernelspec": {
   "display_name": "Python 3 (ipykernel)",
   "language": "python",
   "name": "python3"
  },
  "language_info": {
   "codemirror_mode": {
    "name": "ipython",
    "version": 3
   },
   "file_extension": ".py",
   "mimetype": "text/x-python",
   "name": "python",
   "nbconvert_exporter": "python",
   "pygments_lexer": "ipython3",
   "version": "3.9.13"
  }
 },
 "nbformat": 4,
 "nbformat_minor": 5
}
