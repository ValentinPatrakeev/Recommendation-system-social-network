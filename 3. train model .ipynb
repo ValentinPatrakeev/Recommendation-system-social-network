{
 "cells": [
  {
   "cell_type": "markdown",
   "metadata": {},
   "source": [
    "### TRAIN MODEL"
   ]
  },
  {
   "cell_type": "code",
   "execution_count": 1,
   "metadata": {},
   "outputs": [],
   "source": [
    "import pandas as pd\n",
    "import numpy as np"
   ]
  },
  {
   "cell_type": "code",
   "execution_count": 9,
   "metadata": {},
   "outputs": [],
   "source": [
    "train_data = pd.read_csv('train_data_new', sep=\";\")"
   ]
  },
  {
   "cell_type": "code",
   "execution_count": 10,
   "metadata": {},
   "outputs": [
    {
     "data": {
      "text/html": [
       "<div>\n",
       "<style scoped>\n",
       "    .dataframe tbody tr th:only-of-type {\n",
       "        vertical-align: middle;\n",
       "    }\n",
       "\n",
       "    .dataframe tbody tr th {\n",
       "        vertical-align: top;\n",
       "    }\n",
       "\n",
       "    .dataframe thead th {\n",
       "        text-align: right;\n",
       "    }\n",
       "</style>\n",
       "<table border=\"1\" class=\"dataframe\">\n",
       "  <thead>\n",
       "    <tr style=\"text-align: right;\">\n",
       "      <th></th>\n",
       "      <th>user_id</th>\n",
       "      <th>post_id</th>\n",
       "      <th>target</th>\n",
       "      <th>timestamp</th>\n",
       "      <th>Topic</th>\n",
       "      <th>text_length</th>\n",
       "      <th>likes</th>\n",
       "      <th>posts_views</th>\n",
       "      <th>likes_share</th>\n",
       "      <th>age</th>\n",
       "      <th>City</th>\n",
       "      <th>business</th>\n",
       "      <th>covid</th>\n",
       "      <th>entertainment</th>\n",
       "      <th>movie</th>\n",
       "      <th>politics</th>\n",
       "      <th>sport</th>\n",
       "      <th>tech</th>\n",
       "      <th>views</th>\n",
       "      <th>ratio of likes posts</th>\n",
       "    </tr>\n",
       "  </thead>\n",
       "  <tbody>\n",
       "    <tr>\n",
       "      <th>0</th>\n",
       "      <td>200</td>\n",
       "      <td>37</td>\n",
       "      <td>0</td>\n",
       "      <td>2021-12-29 15:11:05</td>\n",
       "      <td>10.513725</td>\n",
       "      <td>3634</td>\n",
       "      <td>2810.0</td>\n",
       "      <td>22136.0</td>\n",
       "      <td>12.0</td>\n",
       "      <td>34</td>\n",
       "      <td>0.133222</td>\n",
       "      <td>0.0</td>\n",
       "      <td>0.1875</td>\n",
       "      <td>0.141042</td>\n",
       "      <td>0.071429</td>\n",
       "      <td>0.166667</td>\n",
       "      <td>0.0</td>\n",
       "      <td>0.25</td>\n",
       "      <td>51.0</td>\n",
       "      <td>0.117647</td>\n",
       "    </tr>\n",
       "    <tr>\n",
       "      <th>1</th>\n",
       "      <td>200</td>\n",
       "      <td>167</td>\n",
       "      <td>0</td>\n",
       "      <td>2021-12-29 15:01:08</td>\n",
       "      <td>10.513725</td>\n",
       "      <td>1940</td>\n",
       "      <td>1154.0</td>\n",
       "      <td>8310.0</td>\n",
       "      <td>13.0</td>\n",
       "      <td>34</td>\n",
       "      <td>0.133222</td>\n",
       "      <td>0.0</td>\n",
       "      <td>0.1875</td>\n",
       "      <td>0.141042</td>\n",
       "      <td>0.071429</td>\n",
       "      <td>0.166667</td>\n",
       "      <td>0.0</td>\n",
       "      <td>0.25</td>\n",
       "      <td>51.0</td>\n",
       "      <td>0.117647</td>\n",
       "    </tr>\n",
       "    <tr>\n",
       "      <th>2</th>\n",
       "      <td>200</td>\n",
       "      <td>213</td>\n",
       "      <td>0</td>\n",
       "      <td>2021-12-24 14:02:13</td>\n",
       "      <td>10.513725</td>\n",
       "      <td>2923</td>\n",
       "      <td>2885.0</td>\n",
       "      <td>22261.0</td>\n",
       "      <td>12.0</td>\n",
       "      <td>34</td>\n",
       "      <td>0.133222</td>\n",
       "      <td>0.0</td>\n",
       "      <td>0.1875</td>\n",
       "      <td>0.141042</td>\n",
       "      <td>0.071429</td>\n",
       "      <td>0.166667</td>\n",
       "      <td>0.0</td>\n",
       "      <td>0.25</td>\n",
       "      <td>51.0</td>\n",
       "      <td>0.117647</td>\n",
       "    </tr>\n",
       "    <tr>\n",
       "      <th>3</th>\n",
       "      <td>200</td>\n",
       "      <td>994</td>\n",
       "      <td>1</td>\n",
       "      <td>2021-12-29 15:18:42</td>\n",
       "      <td>10.388489</td>\n",
       "      <td>2572</td>\n",
       "      <td>2829.0</td>\n",
       "      <td>22375.0</td>\n",
       "      <td>12.0</td>\n",
       "      <td>34</td>\n",
       "      <td>0.133222</td>\n",
       "      <td>0.0</td>\n",
       "      <td>0.1875</td>\n",
       "      <td>0.141042</td>\n",
       "      <td>0.071429</td>\n",
       "      <td>0.166667</td>\n",
       "      <td>0.0</td>\n",
       "      <td>0.25</td>\n",
       "      <td>51.0</td>\n",
       "      <td>0.117647</td>\n",
       "    </tr>\n",
       "    <tr>\n",
       "      <th>4</th>\n",
       "      <td>200</td>\n",
       "      <td>1122</td>\n",
       "      <td>0</td>\n",
       "      <td>2021-12-29 15:23:54</td>\n",
       "      <td>10.388489</td>\n",
       "      <td>1995</td>\n",
       "      <td>2816.0</td>\n",
       "      <td>22532.0</td>\n",
       "      <td>12.0</td>\n",
       "      <td>34</td>\n",
       "      <td>0.133222</td>\n",
       "      <td>0.0</td>\n",
       "      <td>0.1875</td>\n",
       "      <td>0.141042</td>\n",
       "      <td>0.071429</td>\n",
       "      <td>0.166667</td>\n",
       "      <td>0.0</td>\n",
       "      <td>0.25</td>\n",
       "      <td>51.0</td>\n",
       "      <td>0.117647</td>\n",
       "    </tr>\n",
       "  </tbody>\n",
       "</table>\n",
       "</div>"
      ],
      "text/plain": [
       "   user_id  post_id  target            timestamp      Topic  text_length  \\\n",
       "0      200       37       0  2021-12-29 15:11:05  10.513725         3634   \n",
       "1      200      167       0  2021-12-29 15:01:08  10.513725         1940   \n",
       "2      200      213       0  2021-12-24 14:02:13  10.513725         2923   \n",
       "3      200      994       1  2021-12-29 15:18:42  10.388489         2572   \n",
       "4      200     1122       0  2021-12-29 15:23:54  10.388489         1995   \n",
       "\n",
       "    likes  posts_views  likes_share  age      City  business   covid  \\\n",
       "0  2810.0      22136.0         12.0   34  0.133222       0.0  0.1875   \n",
       "1  1154.0       8310.0         13.0   34  0.133222       0.0  0.1875   \n",
       "2  2885.0      22261.0         12.0   34  0.133222       0.0  0.1875   \n",
       "3  2829.0      22375.0         12.0   34  0.133222       0.0  0.1875   \n",
       "4  2816.0      22532.0         12.0   34  0.133222       0.0  0.1875   \n",
       "\n",
       "   entertainment     movie  politics  sport  tech  views  ratio of likes posts  \n",
       "0       0.141042  0.071429  0.166667    0.0  0.25   51.0              0.117647  \n",
       "1       0.141042  0.071429  0.166667    0.0  0.25   51.0              0.117647  \n",
       "2       0.141042  0.071429  0.166667    0.0  0.25   51.0              0.117647  \n",
       "3       0.141042  0.071429  0.166667    0.0  0.25   51.0              0.117647  \n",
       "4       0.141042  0.071429  0.166667    0.0  0.25   51.0              0.117647  "
      ]
     },
     "execution_count": 10,
     "metadata": {},
     "output_type": "execute_result"
    }
   ],
   "source": [
    "train_data.head()"
   ]
  },
  {
   "cell_type": "code",
   "execution_count": 11,
   "metadata": {},
   "outputs": [],
   "source": [
    "train_data_update = train_data.sort_values('timestamp')"
   ]
  },
  {
   "cell_type": "code",
   "execution_count": 65,
   "metadata": {},
   "outputs": [
    {
     "data": {
      "text/html": [
       "<div>\n",
       "<style scoped>\n",
       "    .dataframe tbody tr th:only-of-type {\n",
       "        vertical-align: middle;\n",
       "    }\n",
       "\n",
       "    .dataframe tbody tr th {\n",
       "        vertical-align: top;\n",
       "    }\n",
       "\n",
       "    .dataframe thead th {\n",
       "        text-align: right;\n",
       "    }\n",
       "</style>\n",
       "<table border=\"1\" class=\"dataframe\">\n",
       "  <thead>\n",
       "    <tr style=\"text-align: right;\">\n",
       "      <th></th>\n",
       "      <th>user_id</th>\n",
       "      <th>post_id</th>\n",
       "      <th>target</th>\n",
       "      <th>timestamp</th>\n",
       "      <th>Topic</th>\n",
       "      <th>text_length</th>\n",
       "      <th>likes</th>\n",
       "      <th>posts_views</th>\n",
       "      <th>likes_share</th>\n",
       "      <th>age</th>\n",
       "      <th>City</th>\n",
       "      <th>business</th>\n",
       "      <th>covid</th>\n",
       "      <th>entertainment</th>\n",
       "      <th>movie</th>\n",
       "      <th>politics</th>\n",
       "      <th>sport</th>\n",
       "      <th>tech</th>\n",
       "      <th>views</th>\n",
       "      <th>ratio of likes posts</th>\n",
       "    </tr>\n",
       "  </thead>\n",
       "  <tbody>\n",
       "    <tr>\n",
       "      <th>1364185</th>\n",
       "      <td>91677</td>\n",
       "      <td>5385</td>\n",
       "      <td>1</td>\n",
       "      <td>2021-12-23 14:36:32</td>\n",
       "      <td>10.733667</td>\n",
       "      <td>432</td>\n",
       "      <td>702.0</td>\n",
       "      <td>6759.0</td>\n",
       "      <td>10.0</td>\n",
       "      <td>17</td>\n",
       "      <td>0.159781</td>\n",
       "      <td>0.000000</td>\n",
       "      <td>0.0</td>\n",
       "      <td>0.000000</td>\n",
       "      <td>0.250000</td>\n",
       "      <td>0.131974</td>\n",
       "      <td>0.142722</td>\n",
       "      <td>0.200000</td>\n",
       "      <td>15.0</td>\n",
       "      <td>0.133333</td>\n",
       "    </tr>\n",
       "    <tr>\n",
       "      <th>4950977</th>\n",
       "      <td>161005</td>\n",
       "      <td>6782</td>\n",
       "      <td>0</td>\n",
       "      <td>2021-12-23 14:36:32</td>\n",
       "      <td>10.733667</td>\n",
       "      <td>2872</td>\n",
       "      <td>684.0</td>\n",
       "      <td>6633.0</td>\n",
       "      <td>10.0</td>\n",
       "      <td>15</td>\n",
       "      <td>0.092855</td>\n",
       "      <td>0.000000</td>\n",
       "      <td>0.0</td>\n",
       "      <td>0.000000</td>\n",
       "      <td>0.000000</td>\n",
       "      <td>0.131974</td>\n",
       "      <td>0.142722</td>\n",
       "      <td>0.116242</td>\n",
       "      <td>15.0</td>\n",
       "      <td>0.000000</td>\n",
       "    </tr>\n",
       "    <tr>\n",
       "      <th>4580075</th>\n",
       "      <td>40293</td>\n",
       "      <td>6437</td>\n",
       "      <td>1</td>\n",
       "      <td>2021-12-23 14:36:32</td>\n",
       "      <td>10.733667</td>\n",
       "      <td>705</td>\n",
       "      <td>713.0</td>\n",
       "      <td>6834.0</td>\n",
       "      <td>10.0</td>\n",
       "      <td>15</td>\n",
       "      <td>0.158675</td>\n",
       "      <td>0.138777</td>\n",
       "      <td>0.0</td>\n",
       "      <td>0.000000</td>\n",
       "      <td>0.222222</td>\n",
       "      <td>0.131974</td>\n",
       "      <td>0.142722</td>\n",
       "      <td>0.000000</td>\n",
       "      <td>15.0</td>\n",
       "      <td>0.133333</td>\n",
       "    </tr>\n",
       "    <tr>\n",
       "      <th>4642628</th>\n",
       "      <td>133794</td>\n",
       "      <td>3545</td>\n",
       "      <td>0</td>\n",
       "      <td>2021-12-23 14:36:32</td>\n",
       "      <td>10.595331</td>\n",
       "      <td>140</td>\n",
       "      <td>2591.0</td>\n",
       "      <td>16898.0</td>\n",
       "      <td>15.0</td>\n",
       "      <td>52</td>\n",
       "      <td>0.097577</td>\n",
       "      <td>0.138777</td>\n",
       "      <td>0.0</td>\n",
       "      <td>0.141042</td>\n",
       "      <td>0.000000</td>\n",
       "      <td>0.131974</td>\n",
       "      <td>0.000000</td>\n",
       "      <td>0.000000</td>\n",
       "      <td>15.0</td>\n",
       "      <td>0.000000</td>\n",
       "    </tr>\n",
       "    <tr>\n",
       "      <th>4904478</th>\n",
       "      <td>26676</td>\n",
       "      <td>3330</td>\n",
       "      <td>1</td>\n",
       "      <td>2021-12-23 14:36:32</td>\n",
       "      <td>10.595331</td>\n",
       "      <td>126</td>\n",
       "      <td>732.0</td>\n",
       "      <td>6832.0</td>\n",
       "      <td>10.0</td>\n",
       "      <td>20</td>\n",
       "      <td>0.148598</td>\n",
       "      <td>0.138777</td>\n",
       "      <td>0.2</td>\n",
       "      <td>0.000000</td>\n",
       "      <td>0.000000</td>\n",
       "      <td>0.131974</td>\n",
       "      <td>0.142722</td>\n",
       "      <td>0.000000</td>\n",
       "      <td>15.0</td>\n",
       "      <td>0.066667</td>\n",
       "    </tr>\n",
       "  </tbody>\n",
       "</table>\n",
       "</div>"
      ],
      "text/plain": [
       "         user_id  post_id  target            timestamp      Topic  \\\n",
       "1364185    91677     5385       1  2021-12-23 14:36:32  10.733667   \n",
       "4950977   161005     6782       0  2021-12-23 14:36:32  10.733667   \n",
       "4580075    40293     6437       1  2021-12-23 14:36:32  10.733667   \n",
       "4642628   133794     3545       0  2021-12-23 14:36:32  10.595331   \n",
       "4904478    26676     3330       1  2021-12-23 14:36:32  10.595331   \n",
       "\n",
       "         text_length   likes  posts_views  likes_share  age      City  \\\n",
       "1364185          432   702.0       6759.0         10.0   17  0.159781   \n",
       "4950977         2872   684.0       6633.0         10.0   15  0.092855   \n",
       "4580075          705   713.0       6834.0         10.0   15  0.158675   \n",
       "4642628          140  2591.0      16898.0         15.0   52  0.097577   \n",
       "4904478          126   732.0       6832.0         10.0   20  0.148598   \n",
       "\n",
       "         business  covid  entertainment     movie  politics     sport  \\\n",
       "1364185  0.000000    0.0       0.000000  0.250000  0.131974  0.142722   \n",
       "4950977  0.000000    0.0       0.000000  0.000000  0.131974  0.142722   \n",
       "4580075  0.138777    0.0       0.000000  0.222222  0.131974  0.142722   \n",
       "4642628  0.138777    0.0       0.141042  0.000000  0.131974  0.000000   \n",
       "4904478  0.138777    0.2       0.000000  0.000000  0.131974  0.142722   \n",
       "\n",
       "             tech  views  ratio of likes posts  \n",
       "1364185  0.200000   15.0              0.133333  \n",
       "4950977  0.116242   15.0              0.000000  \n",
       "4580075  0.000000   15.0              0.133333  \n",
       "4642628  0.000000   15.0              0.000000  \n",
       "4904478  0.000000   15.0              0.066667  "
      ]
     },
     "execution_count": 65,
     "metadata": {},
     "output_type": "execute_result"
    }
   ],
   "source": [
    "train_data_update.head()"
   ]
  },
  {
   "cell_type": "code",
   "execution_count": 22,
   "metadata": {},
   "outputs": [
    {
     "name": "stdout",
     "output_type": "stream",
     "text": [
      "Quantity 'target' = 0 : 4295656\n",
      "Quantity 'target' = 1 : 689177\n",
      "Rate 0 to 1 : 6.23\n"
     ]
    }
   ],
   "source": [
    "print(f\"Quantity 'target' = 0 : {train_data_update[train_data_update['target']==0].shape[0]}\")\n",
    "print(f\"Quantity 'target' = 1 : {train_data_update[train_data_update['target']==1].shape[0]}\")\n",
    "print(f\"Rate 0 to 1 : {train_data_update[train_data_update['target']==0].shape[0]/train_data_update[train_data_update['target']==1].shape[0]:.2f}\")"
   ]
  },
  {
   "cell_type": "code",
   "execution_count": 23,
   "metadata": {},
   "outputs": [],
   "source": [
    "from sklearn.model_selection import train_test_split\n",
    "\n",
    "X = train_data_update.drop(columns=['target','timestamp'])\n",
    "y = train_data_update['target']\n",
    "\n",
    "X_train, X_test, y_train, y_test = train_test_split(X, y,\n",
    "                                                    random_state=0,\n",
    "                                                    shuffle=False, #предварительно посортировали по дате\n",
    "                                                    test_size=0.2)\n",
    "\n",
    "X_train_clear = X_train.drop(columns=['user_id', 'post_id'])\n",
    "X_test_clear = X_test.drop(columns=['user_id', 'post_id'])"
   ]
  },
  {
   "cell_type": "markdown",
   "metadata": {},
   "source": [
    "### First model:\n",
    "#### Classical Logistic Regression with Standard Scaler"
   ]
  },
  {
   "cell_type": "code",
   "execution_count": 26,
   "metadata": {},
   "outputs": [
    {
     "data": {
      "text/html": [
       "<style>#sk-container-id-1 {color: black;background-color: white;}#sk-container-id-1 pre{padding: 0;}#sk-container-id-1 div.sk-toggleable {background-color: white;}#sk-container-id-1 label.sk-toggleable__label {cursor: pointer;display: block;width: 100%;margin-bottom: 0;padding: 0.3em;box-sizing: border-box;text-align: center;}#sk-container-id-1 label.sk-toggleable__label-arrow:before {content: \"▸\";float: left;margin-right: 0.25em;color: #696969;}#sk-container-id-1 label.sk-toggleable__label-arrow:hover:before {color: black;}#sk-container-id-1 div.sk-estimator:hover label.sk-toggleable__label-arrow:before {color: black;}#sk-container-id-1 div.sk-toggleable__content {max-height: 0;max-width: 0;overflow: hidden;text-align: left;background-color: #f0f8ff;}#sk-container-id-1 div.sk-toggleable__content pre {margin: 0.2em;color: black;border-radius: 0.25em;background-color: #f0f8ff;}#sk-container-id-1 input.sk-toggleable__control:checked~div.sk-toggleable__content {max-height: 200px;max-width: 100%;overflow: auto;}#sk-container-id-1 input.sk-toggleable__control:checked~label.sk-toggleable__label-arrow:before {content: \"▾\";}#sk-container-id-1 div.sk-estimator input.sk-toggleable__control:checked~label.sk-toggleable__label {background-color: #d4ebff;}#sk-container-id-1 div.sk-label input.sk-toggleable__control:checked~label.sk-toggleable__label {background-color: #d4ebff;}#sk-container-id-1 input.sk-hidden--visually {border: 0;clip: rect(1px 1px 1px 1px);clip: rect(1px, 1px, 1px, 1px);height: 1px;margin: -1px;overflow: hidden;padding: 0;position: absolute;width: 1px;}#sk-container-id-1 div.sk-estimator {font-family: monospace;background-color: #f0f8ff;border: 1px dotted black;border-radius: 0.25em;box-sizing: border-box;margin-bottom: 0.5em;}#sk-container-id-1 div.sk-estimator:hover {background-color: #d4ebff;}#sk-container-id-1 div.sk-parallel-item::after {content: \"\";width: 100%;border-bottom: 1px solid gray;flex-grow: 1;}#sk-container-id-1 div.sk-label:hover label.sk-toggleable__label {background-color: #d4ebff;}#sk-container-id-1 div.sk-serial::before {content: \"\";position: absolute;border-left: 1px solid gray;box-sizing: border-box;top: 0;bottom: 0;left: 50%;z-index: 0;}#sk-container-id-1 div.sk-serial {display: flex;flex-direction: column;align-items: center;background-color: white;padding-right: 0.2em;padding-left: 0.2em;position: relative;}#sk-container-id-1 div.sk-item {position: relative;z-index: 1;}#sk-container-id-1 div.sk-parallel {display: flex;align-items: stretch;justify-content: center;background-color: white;position: relative;}#sk-container-id-1 div.sk-item::before, #sk-container-id-1 div.sk-parallel-item::before {content: \"\";position: absolute;border-left: 1px solid gray;box-sizing: border-box;top: 0;bottom: 0;left: 50%;z-index: -1;}#sk-container-id-1 div.sk-parallel-item {display: flex;flex-direction: column;z-index: 1;position: relative;background-color: white;}#sk-container-id-1 div.sk-parallel-item:first-child::after {align-self: flex-end;width: 50%;}#sk-container-id-1 div.sk-parallel-item:last-child::after {align-self: flex-start;width: 50%;}#sk-container-id-1 div.sk-parallel-item:only-child::after {width: 0;}#sk-container-id-1 div.sk-dashed-wrapped {border: 1px dashed gray;margin: 0 0.4em 0.5em 0.4em;box-sizing: border-box;padding-bottom: 0.4em;background-color: white;}#sk-container-id-1 div.sk-label label {font-family: monospace;font-weight: bold;display: inline-block;line-height: 1.2em;}#sk-container-id-1 div.sk-label-container {text-align: center;}#sk-container-id-1 div.sk-container {/* jupyter's `normalize.less` sets `[hidden] { display: none; }` but bootstrap.min.css set `[hidden] { display: none !important; }` so we also need the `!important` here to be able to override the default hidden behavior on the sphinx rendered scikit-learn.org. See: https://github.com/scikit-learn/scikit-learn/issues/21755 */display: inline-block !important;position: relative;}#sk-container-id-1 div.sk-text-repr-fallback {display: none;}</style><div id=\"sk-container-id-1\" class=\"sk-top-container\"><div class=\"sk-text-repr-fallback\"><pre>Pipeline(steps=[(&#x27;scaler&#x27;, StandardScaler()),\n",
       "                (&#x27;LR&#x27;,\n",
       "                 LogisticRegression(class_weight=&#x27;balanced&#x27;, random_state=42))])</pre><b>In a Jupyter environment, please rerun this cell to show the HTML representation or trust the notebook. <br />On GitHub, the HTML representation is unable to render, please try loading this page with nbviewer.org.</b></div><div class=\"sk-container\" hidden><div class=\"sk-item sk-dashed-wrapped\"><div class=\"sk-label-container\"><div class=\"sk-label sk-toggleable\"><input class=\"sk-toggleable__control sk-hidden--visually\" id=\"sk-estimator-id-1\" type=\"checkbox\" ><label for=\"sk-estimator-id-1\" class=\"sk-toggleable__label sk-toggleable__label-arrow\">Pipeline</label><div class=\"sk-toggleable__content\"><pre>Pipeline(steps=[(&#x27;scaler&#x27;, StandardScaler()),\n",
       "                (&#x27;LR&#x27;,\n",
       "                 LogisticRegression(class_weight=&#x27;balanced&#x27;, random_state=42))])</pre></div></div></div><div class=\"sk-serial\"><div class=\"sk-item\"><div class=\"sk-estimator sk-toggleable\"><input class=\"sk-toggleable__control sk-hidden--visually\" id=\"sk-estimator-id-2\" type=\"checkbox\" ><label for=\"sk-estimator-id-2\" class=\"sk-toggleable__label sk-toggleable__label-arrow\">StandardScaler</label><div class=\"sk-toggleable__content\"><pre>StandardScaler()</pre></div></div></div><div class=\"sk-item\"><div class=\"sk-estimator sk-toggleable\"><input class=\"sk-toggleable__control sk-hidden--visually\" id=\"sk-estimator-id-3\" type=\"checkbox\" ><label for=\"sk-estimator-id-3\" class=\"sk-toggleable__label sk-toggleable__label-arrow\">LogisticRegression</label><div class=\"sk-toggleable__content\"><pre>LogisticRegression(class_weight=&#x27;balanced&#x27;, random_state=42)</pre></div></div></div></div></div></div></div>"
      ],
      "text/plain": [
       "Pipeline(steps=[('scaler', StandardScaler()),\n",
       "                ('LR',\n",
       "                 LogisticRegression(class_weight='balanced', random_state=42))])"
      ]
     },
     "execution_count": 26,
     "metadata": {},
     "output_type": "execute_result"
    }
   ],
   "source": [
    "from sklearn.linear_model import LogisticRegression\n",
    "from sklearn.pipeline import Pipeline\n",
    "from sklearn.preprocessing import StandardScaler\n",
    "model_LR = LogisticRegression(random_state=42, verbose=0,class_weight='balanced')\n",
    "pipe_LR = Pipeline([('scaler', StandardScaler()), ('LR', model_LR)])\n",
    "pipe_LR "
   ]
  },
  {
   "cell_type": "code",
   "execution_count": 27,
   "metadata": {},
   "outputs": [],
   "source": [
    "from sklearn.model_selection import TimeSeriesSplit\n",
    "from sklearn.model_selection import cross_validate\n",
    "splitter = TimeSeriesSplit(n_splits=5)\n",
    "pipe_LR.fit(X_train_clear, y_train)\n",
    "cv_model_LR = cross_validate(pipe_LR, X_train_clear, y_train,\n",
    "                              scoring='roc_auc',cv=splitter,return_train_score=True)"
   ]
  },
  {
   "cell_type": "code",
   "execution_count": 56,
   "metadata": {},
   "outputs": [
    {
     "name": "stdout",
     "output_type": "stream",
     "text": [
      "F1 LogReg score train = 0.321, on test = 0.322\n"
     ]
    }
   ],
   "source": [
    "from sklearn.metrics import classification_report, f1_score, roc_curve, auc\n",
    "\n",
    "predict_train = pipe_LR.predict(X_train_clear)\n",
    "predict_test = pipe_LR.predict(X_test_clear)\n",
    "f1_train_lg = round(f1_score(y_train, predict_train),3)\n",
    "f1_test_lg = round(f1_score(y_test, predict_test),3)\n",
    "\n",
    "print(f'F1 LogReg score train = {f1_train_lg}, on test = {f1_test_lg}')"
   ]
  },
  {
   "cell_type": "code",
   "execution_count": 57,
   "metadata": {},
   "outputs": [
    {
     "name": "stdout",
     "output_type": "stream",
     "text": [
      "Log reg on test: Recall = 0.62, Precision = 0.218, Roc_auc= 0.626\n"
     ]
    }
   ],
   "source": [
    "from sklearn.metrics import recall_score, precision_score, roc_auc_score\n",
    "\n",
    "predict_test = pipe_LR.predict(X_test_clear)\n",
    "\n",
    "recall_log = round(recall_score(y_test, predict_test),3)\n",
    "precision_log = round(precision_score(y_test, predict_test),3)\n",
    "roc_auc_log = round(roc_auc_score(y_test, predict_test),3)\n",
    "\n",
    "print(f'Log reg on test: Recall = {recall_log}, Precision = {precision_log}, Roc_auc= {roc_auc_log}')"
   ]
  },
  {
   "cell_type": "code",
   "execution_count": 86,
   "metadata": {},
   "outputs": [
    {
     "data": {
      "text/plain": [
       "['model_first_LogReg.pkl']"
      ]
     },
     "execution_count": 86,
     "metadata": {},
     "output_type": "execute_result"
    }
   ],
   "source": [
    "import joblib, pickle\n",
    "joblib.dump(pipe_LR, 'model_first_LogReg.pkl')\n",
    "#pipe_LR = joblib.load('logistic_regression_model.pkl')"
   ]
  },
  {
   "cell_type": "markdown",
   "metadata": {},
   "source": [
    "### Second model:\n",
    "####  CatBoostClassifier"
   ]
  },
  {
   "cell_type": "code",
   "execution_count": 46,
   "metadata": {},
   "outputs": [
    {
     "name": "stdout",
     "output_type": "stream",
     "text": [
      "Learning rate set to 0.5\n",
      "0:\tlearn: 0.4314179\ttotal: 892ms\tremaining: 4m 26s\n",
      "50:\tlearn: 0.3025313\ttotal: 24.3s\tremaining: 1m 58s\n",
      "100:\tlearn: 0.3004009\ttotal: 46.3s\tremaining: 1m 31s\n",
      "150:\tlearn: 0.2993545\ttotal: 1m 8s\tremaining: 1m 7s\n",
      "200:\tlearn: 0.2987615\ttotal: 1m 30s\tremaining: 44.6s\n",
      "250:\tlearn: 0.2983479\ttotal: 1m 53s\tremaining: 22.1s\n",
      "299:\tlearn: 0.2979215\ttotal: 2m 15s\tremaining: 0us\n"
     ]
    },
    {
     "data": {
      "text/plain": [
       "<catboost.core.CatBoostClassifier at 0x23f54cafa90>"
      ]
     },
     "execution_count": 46,
     "metadata": {},
     "output_type": "execute_result"
    }
   ],
   "source": [
    "from catboost import CatBoostClassifier\n",
    "cat_boost = CatBoostClassifier(iterations=300, verbose=50)\n",
    "\n",
    "cat_boost.fit(X_train_clear, y_train)"
   ]
  },
  {
   "cell_type": "code",
   "execution_count": 54,
   "metadata": {},
   "outputs": [
    {
     "name": "stdout",
     "output_type": "stream",
     "text": [
      "F1 Catboost score train 0.225, on test 0.214\n"
     ]
    }
   ],
   "source": [
    "from sklearn.metrics import classification_report, f1_score, roc_curve, auc\n",
    "\n",
    "predict_train = cat_boost.predict(X_train_clear)\n",
    "predict_test = cat_boost.predict(X_test_clear)\n",
    "f1_train_catboost = round(f1_score(y_train, predict_train),3)\n",
    "f1_test_catboost  = round(f1_score(y_test, predict_test),3)\n",
    "\n",
    "print(f'F1 Catboost score train {f1_train_catboost}, on test {f1_test_catboost}')\n"
   ]
  },
  {
   "cell_type": "code",
   "execution_count": 58,
   "metadata": {},
   "outputs": [
    {
     "name": "stdout",
     "output_type": "stream",
     "text": [
      "Catboos test: Recall = 0.129, Precision = 0.629, Roc_auc = 0.558\n"
     ]
    }
   ],
   "source": [
    "from sklearn.metrics import recall_score, precision_score, roc_auc_score\n",
    "\n",
    "predict_test = cat_boost.predict(X_test_clear)\n",
    "\n",
    "recall_catboost = round(recall_score(y_test, predict_test),3)\n",
    "precision_catboost = round(precision_score(y_test, predict_test),3)\n",
    "roc_auc_catboost = round(roc_auc_score(y_test, predict_test),3)\n",
    "\n",
    "print(f'Catboos test: Recall = {recall_catboost}, Precision = {precision_catboost}, Roc_auc = {roc_auc_catboost}')\n"
   ]
  },
  {
   "cell_type": "code",
   "execution_count": 59,
   "metadata": {},
   "outputs": [],
   "source": [
    "cat_boost.save_model('model_second_catboost', format=\"cbm\")"
   ]
  },
  {
   "cell_type": "markdown",
   "metadata": {},
   "source": [
    "### Comparison of models:\n",
    "* Classical Logistic Regression\n",
    "* CatBoostClassifier"
   ]
  },
  {
   "cell_type": "code",
   "execution_count": 61,
   "metadata": {},
   "outputs": [
    {
     "name": "stdout",
     "output_type": "stream",
     "text": [
      "F1 LogReg score train = 0.321, on test = 0.322\n",
      "F1 Catboost score train 0.225, on test 0.214\n"
     ]
    }
   ],
   "source": [
    "print(f'F1 LogReg score train = {f1_train_lg}, on test = {f1_test_lg}')\n",
    "print(f'F1 Catboost score train {f1_train_catboost}, on test {f1_test_catboost}')"
   ]
  },
  {
   "cell_type": "code",
   "execution_count": 62,
   "metadata": {},
   "outputs": [
    {
     "name": "stdout",
     "output_type": "stream",
     "text": [
      "Log reg on test: Recall = 0.62, Precision = 0.218, Roc_auc= 0.626\n",
      "Catboos test: Recall = 0.129, Precision = 0.629, Roc_auc = 0.558\n"
     ]
    }
   ],
   "source": [
    "print(f'Log reg on test: Recall = {recall_log}, Precision = {precision_log}, Roc_auc= {roc_auc_log}')\n",
    "print(f'Catboos test: Recall = {recall_catboost}, Precision = {precision_catboost}, Roc_auc = {roc_auc_catboost}')"
   ]
  },
  {
   "cell_type": "code",
   "execution_count": 73,
   "metadata": {},
   "outputs": [],
   "source": [
    "prob =  cat_boost.predict_proba(X_test_clear)"
   ]
  },
  {
   "cell_type": "code",
   "execution_count": 74,
   "metadata": {},
   "outputs": [],
   "source": [
    "first_class_prob = []\n",
    "for row in range(X_test.shape[0]):\n",
    "    first_class_prob.append(prob[row][1])"
   ]
  },
  {
   "cell_type": "code",
   "execution_count": 75,
   "metadata": {},
   "outputs": [],
   "source": [
    "X_test['prob'] = first_class_prob\n",
    "X_test['target'] = y_test"
   ]
  },
  {
   "cell_type": "markdown",
   "metadata": {},
   "source": [
    "## Average Hitrate@5 for test users"
   ]
  },
  {
   "cell_type": "code",
   "execution_count": 64,
   "metadata": {},
   "outputs": [],
   "source": [
    "prob_log =  pipe_LR.predict_proba(X_test_clear)\n",
    "prob_Catboost =  cat_boost.predict_proba(X_test_clear)"
   ]
  },
  {
   "cell_type": "code",
   "execution_count": 66,
   "metadata": {},
   "outputs": [],
   "source": [
    "first_class_prob_log = []\n",
    "first_class_prob_Catboost = []\n",
    "for row in range(X_test.shape[0]):\n",
    "    first_class_prob_log.append(prob_log[row][1])\n",
    "    first_class_prob_Catboost.append(prob_Catboost[row][1])"
   ]
  },
  {
   "cell_type": "code",
   "execution_count": 67,
   "metadata": {},
   "outputs": [],
   "source": [
    "X_test['prob_log'] = first_class_prob_log\n",
    "X_test['prob_Catboost'] = first_class_prob_Catboost\n",
    "X_test['target'] = y_test"
   ]
  },
  {
   "cell_type": "code",
   "execution_count": 69,
   "metadata": {},
   "outputs": [
    {
     "name": "stdout",
     "output_type": "stream",
     "text": [
      "Среднее Hitrate@5 по пользователям из теста: 0.5779298751200769\n",
      "Среднее Hitrate@5 по пользователям из теста: 0.8661143131604226\n"
     ]
    }
   ],
   "source": [
    "users_hitrate_log = []\n",
    "users_hitrate_catboost = []\n",
    "\n",
    "\n",
    "for user in X_test['user_id'].unique():\n",
    "    part = X_test[X_test['user_id']==user]\n",
    "    part_log = part.sort_values('prob_log', ascending=False).head(5).reset_index()\n",
    "    part_catboost = part.sort_values('prob_Catboost', ascending=False).head(5).reset_index()\n",
    "    \n",
    "    users_hitrate_log_ = []\n",
    "    users_hitrate_catboost_ = []\n",
    "    \n",
    "    for i in part_log.target:\n",
    "        if i == 1:\n",
    "            users_hitrate_log_.append(1)\n",
    "        else:\n",
    "            users_hitrate_log_.append(0)\n",
    "    users_hitrate_metric_log = max(users_hitrate_log_)\n",
    "    users_hitrate_log.append(users_hitrate_metric_log)\n",
    "\n",
    "    for i in part_catboost.target:\n",
    "        if i == 1:\n",
    "            users_hitrate_catboost_.append(1)\n",
    "        else:\n",
    "            users_hitrate_catboost_.append(0)\n",
    "    users_hitrate_metric_Catboost =  max(users_hitrate_catboost_)\n",
    "    users_hitrate_catboost.append(users_hitrate_metric_Catboost)"
   ]
  },
  {
   "cell_type": "code",
   "execution_count": 70,
   "metadata": {},
   "outputs": [
    {
     "name": "stdout",
     "output_type": "stream",
     "text": [
      "Среднее Hitrate@5 по пользователям из теста на Classical Logistic Regression: 0.5779298751200769\n",
      "Среднее Hitrate@5 по пользователям из теста CatBoostClassifier: 0.8661143131604226\n"
     ]
    }
   ],
   "source": [
    "print(f\"Среднее Hitrate@5 по пользователям из теста на Classical Logistic Regression: {np.mean(users_hitrate_log)}\")\n",
    "print(f\"Среднее Hitrate@5 по пользователям из теста CatBoostClassifier: {np.mean(users_hitrate_catboost)}\")"
   ]
  },
  {
   "cell_type": "code",
   "execution_count": 77,
   "metadata": {},
   "outputs": [
    {
     "data": {
      "image/png": "[encoded data removed]",
      "text/plain": [
       "<Figure size 1600x2000 with 1 Axes>"
      ]
     },
     "metadata": {},
     "output_type": "display_data"
    }
   ],
   "source": [
    "import matplotlib.pyplot as plt\n",
    "import seaborn as sns\n",
    "\n",
    "fig = plt.figure()\n",
    "fig.set_size_inches(16, 20)\n",
    "\n",
    "sns.barplot(x=cat_boost.feature_importances_,\n",
    "            y=X_test_clear.columns)\n",
    "\n",
    "\n",
    "plt.show()"
   ]
  },
  {
   "cell_type": "code",
   "execution_count": 78,
   "metadata": {},
   "outputs": [
    {
     "data": {
      "text/html": [
       "<div>\n",
       "<style scoped>\n",
       "    .dataframe tbody tr th:only-of-type {\n",
       "        vertical-align: middle;\n",
       "    }\n",
       "\n",
       "    .dataframe tbody tr th {\n",
       "        vertical-align: top;\n",
       "    }\n",
       "\n",
       "    .dataframe thead th {\n",
       "        text-align: right;\n",
       "    }\n",
       "</style>\n",
       "<table border=\"1\" class=\"dataframe\">\n",
       "  <thead>\n",
       "    <tr style=\"text-align: right;\">\n",
       "      <th></th>\n",
       "      <th>user_id</th>\n",
       "      <th>post_id</th>\n",
       "      <th>Topic</th>\n",
       "      <th>text_length</th>\n",
       "      <th>likes</th>\n",
       "      <th>posts_views</th>\n",
       "      <th>likes_share</th>\n",
       "      <th>age</th>\n",
       "      <th>City</th>\n",
       "      <th>business</th>\n",
       "      <th>covid</th>\n",
       "      <th>entertainment</th>\n",
       "      <th>movie</th>\n",
       "      <th>politics</th>\n",
       "      <th>sport</th>\n",
       "      <th>tech</th>\n",
       "      <th>views</th>\n",
       "      <th>ratio of likes posts</th>\n",
       "      <th>prob</th>\n",
       "      <th>target</th>\n",
       "    </tr>\n",
       "  </thead>\n",
       "  <tbody>\n",
       "    <tr>\n",
       "      <th>2037726</th>\n",
       "      <td>88017</td>\n",
       "      <td>986</td>\n",
       "      <td>10.388489</td>\n",
       "      <td>2930</td>\n",
       "      <td>2781.0</td>\n",
       "      <td>22171.0</td>\n",
       "      <td>12.0</td>\n",
       "      <td>40</td>\n",
       "      <td>0.120659</td>\n",
       "      <td>0.333333</td>\n",
       "      <td>0.090909</td>\n",
       "      <td>0.166667</td>\n",
       "      <td>0.052632</td>\n",
       "      <td>0.000000</td>\n",
       "      <td>0.000000</td>\n",
       "      <td>0.000000</td>\n",
       "      <td>113.0</td>\n",
       "      <td>0.061947</td>\n",
       "      <td>0.000016</td>\n",
       "      <td>0</td>\n",
       "    </tr>\n",
       "    <tr>\n",
       "      <th>200957</th>\n",
       "      <td>137037</td>\n",
       "      <td>1148</td>\n",
       "      <td>10.388489</td>\n",
       "      <td>1784</td>\n",
       "      <td>881.0</td>\n",
       "      <td>12083.0</td>\n",
       "      <td>7.0</td>\n",
       "      <td>34</td>\n",
       "      <td>0.086395</td>\n",
       "      <td>0.000000</td>\n",
       "      <td>0.000000</td>\n",
       "      <td>0.000000</td>\n",
       "      <td>0.153846</td>\n",
       "      <td>0.000000</td>\n",
       "      <td>0.000000</td>\n",
       "      <td>0.000000</td>\n",
       "      <td>113.0</td>\n",
       "      <td>0.035398</td>\n",
       "      <td>0.000017</td>\n",
       "      <td>0</td>\n",
       "    </tr>\n",
       "    <tr>\n",
       "      <th>283555</th>\n",
       "      <td>123437</td>\n",
       "      <td>3002</td>\n",
       "      <td>10.595331</td>\n",
       "      <td>138</td>\n",
       "      <td>2636.0</td>\n",
       "      <td>16858.0</td>\n",
       "      <td>15.0</td>\n",
       "      <td>39</td>\n",
       "      <td>0.126381</td>\n",
       "      <td>0.333333</td>\n",
       "      <td>0.043478</td>\n",
       "      <td>0.200000</td>\n",
       "      <td>0.160000</td>\n",
       "      <td>0.000000</td>\n",
       "      <td>0.200000</td>\n",
       "      <td>0.000000</td>\n",
       "      <td>113.0</td>\n",
       "      <td>0.132743</td>\n",
       "      <td>0.022632</td>\n",
       "      <td>0</td>\n",
       "    </tr>\n",
       "    <tr>\n",
       "      <th>3725476</th>\n",
       "      <td>94927</td>\n",
       "      <td>2933</td>\n",
       "      <td>10.595331</td>\n",
       "      <td>138</td>\n",
       "      <td>2608.0</td>\n",
       "      <td>17034.0</td>\n",
       "      <td>15.0</td>\n",
       "      <td>39</td>\n",
       "      <td>0.146697</td>\n",
       "      <td>0.500000</td>\n",
       "      <td>0.156250</td>\n",
       "      <td>0.333333</td>\n",
       "      <td>0.130435</td>\n",
       "      <td>0.000000</td>\n",
       "      <td>0.000000</td>\n",
       "      <td>0.333333</td>\n",
       "      <td>113.0</td>\n",
       "      <td>0.132743</td>\n",
       "      <td>0.085527</td>\n",
       "      <td>0</td>\n",
       "    </tr>\n",
       "    <tr>\n",
       "      <th>698568</th>\n",
       "      <td>81148</td>\n",
       "      <td>3648</td>\n",
       "      <td>10.595331</td>\n",
       "      <td>131</td>\n",
       "      <td>1601.0</td>\n",
       "      <td>17396.0</td>\n",
       "      <td>9.0</td>\n",
       "      <td>36</td>\n",
       "      <td>0.185445</td>\n",
       "      <td>0.166667</td>\n",
       "      <td>0.172414</td>\n",
       "      <td>0.500000</td>\n",
       "      <td>0.216216</td>\n",
       "      <td>0.307692</td>\n",
       "      <td>0.333333</td>\n",
       "      <td>0.000000</td>\n",
       "      <td>113.0</td>\n",
       "      <td>0.238938</td>\n",
       "      <td>0.124370</td>\n",
       "      <td>0</td>\n",
       "    </tr>\n",
       "  </tbody>\n",
       "</table>\n",
       "</div>"
      ],
      "text/plain": [
       "         user_id  post_id      Topic  text_length   likes  posts_views  \\\n",
       "2037726    88017      986  10.388489         2930  2781.0      22171.0   \n",
       "200957    137037     1148  10.388489         1784   881.0      12083.0   \n",
       "283555    123437     3002  10.595331          138  2636.0      16858.0   \n",
       "3725476    94927     2933  10.595331          138  2608.0      17034.0   \n",
       "698568     81148     3648  10.595331          131  1601.0      17396.0   \n",
       "\n",
       "         likes_share  age      City  business     covid  entertainment  \\\n",
       "2037726         12.0   40  0.120659  0.333333  0.090909       0.166667   \n",
       "200957           7.0   34  0.086395  0.000000  0.000000       0.000000   \n",
       "283555          15.0   39  0.126381  0.333333  0.043478       0.200000   \n",
       "3725476         15.0   39  0.146697  0.500000  0.156250       0.333333   \n",
       "698568           9.0   36  0.185445  0.166667  0.172414       0.500000   \n",
       "\n",
       "            movie  politics     sport      tech  views  ratio of likes posts  \\\n",
       "2037726  0.052632  0.000000  0.000000  0.000000  113.0              0.061947   \n",
       "200957   0.153846  0.000000  0.000000  0.000000  113.0              0.035398   \n",
       "283555   0.160000  0.000000  0.200000  0.000000  113.0              0.132743   \n",
       "3725476  0.130435  0.000000  0.000000  0.333333  113.0              0.132743   \n",
       "698568   0.216216  0.307692  0.333333  0.000000  113.0              0.238938   \n",
       "\n",
       "             prob  target  \n",
       "2037726  0.000016       0  \n",
       "200957   0.000017       0  \n",
       "283555   0.022632       0  \n",
       "3725476  0.085527       0  \n",
       "698568   0.124370       0  "
      ]
     },
     "execution_count": 78,
     "metadata": {},
     "output_type": "execute_result"
    }
   ],
   "source": [
    "X_test.head()"
   ]
  },
  {
   "cell_type": "code",
   "execution_count": 79,
   "metadata": {},
   "outputs": [
    {
     "name": "stdout",
     "output_type": "stream",
     "text": [
      "Среднее Hitrate@5 по пользователям из теста: 0.8661143131604226\n"
     ]
    }
   ],
   "source": [
    "users_hitrate = []\n",
    "\n",
    "for user in X_test['user_id'].unique():\n",
    "    part = X_test[X_test['user_id']==user]\n",
    "    part = part.sort_values('prob', ascending=False).head(5).reset_index()\n",
    "    \n",
    "    users_hitrate_ = []\n",
    "    \n",
    "    for i in part.target:\n",
    "        if i == 1:\n",
    "            users_hitrate_.append(1)\n",
    "        else:\n",
    "            users_hitrate_.append(0)\n",
    "    \n",
    "    users_hitrate_metric =  max(users_hitrate_)\n",
    "    \n",
    "    users_hitrate.append(users_hitrate_metric)\n",
    "    \n",
    "print(f\"Среднее Hitrate@5 по пользователям из теста: {np.mean(users_hitrate)}\")"
   ]
  },
  {
   "cell_type": "code",
   "execution_count": null,
   "metadata": {},
   "outputs": [],
   "source": []
  }
 ],
 "metadata": {
  "kernelspec": {
   "display_name": "Python 3 (ipykernel)",
   "language": "python",
   "name": "python3"
  },
  "language_info": {
   "codemirror_mode": {
    "name": "ipython",
    "version": 3
   },
   "file_extension": ".py",
   "mimetype": "text/x-python",
   "name": "python",
   "nbconvert_exporter": "python",
   "pygments_lexer": "ipython3",
   "version": "3.9.13"
  }
 },
 "nbformat": 4,
 "nbformat_minor": 4
}
