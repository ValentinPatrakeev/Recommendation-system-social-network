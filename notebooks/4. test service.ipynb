{
 "cells": [
  {
   "cell_type": "markdown",
   "id": "147854fc",
   "metadata": {},
   "source": [
    " ### test service\n",
    " Работа Севриса: \n",
    " - Загруpка данных с PostresSQL (либо загрузка файлов локальо - с csv)\n",
    " - Загрузка модели\n",
    " - Предсказание постов для конкретного user_id\n",
    " - Возвращение ответа"
   ]
  },
  {
   "cell_type": "code",
   "execution_count": 5,
   "id": "6a0d14c4",
   "metadata": {},
   "outputs": [],
   "source": [
    "import pandas as pd\n",
    "from sqlalchemy import create_engine"
   ]
  },
  {
   "cell_type": "markdown",
   "id": "36df2174",
   "metadata": {},
   "source": [
    " **1) Загруpка данных с PostresSQL (либо загрузка файлов локальо - с csv)**\n",
    " * Загрузка данные батчами\n",
    " * загружаем признаки отдельно по юзерам, отдельно по постам "
   ]
  },
  {
   "cell_type": "code",
   "execution_count": 8,
   "id": "fa1af392",
   "metadata": {},
   "outputs": [],
   "source": [
    "password = '*****' #При необходимоси пароль может быть скинут"
   ]
  },
  {
   "cell_type": "code",
   "execution_count": 7,
   "id": "1bc8d849-e7e6-4c2f-ae05-0068069b8adc",
   "metadata": {},
   "outputs": [],
   "source": [
    "SQLALCHEMY_DATABASE_URL = f\"postgresql://robot-startml-ro:{password}@\" \\\n",
    "                          \"postgres.lab.karpov.courses:6432/startml\"\n",
    "engine = create_engine(SQLALCHEMY_DATABASE_URL)"
   ]
  },
  {
   "cell_type": "code",
   "execution_count": 9,
   "id": "e0489e3a-2b04-4eca-b19a-c5d9a0d652a9",
   "metadata": {},
   "outputs": [],
   "source": [
    "def batch_load_sql(query: str) -> pd.DataFrame:\n",
    "    CHUNKSIZE = 500\n",
    "    conn = engine.connect().execution_options(stream_results=True)\n",
    "    chunks = []\n",
    "    for chunk_dataframe in pd.read_sql(query, conn,\n",
    "                                       chunksize=CHUNKSIZE):\n",
    "        chunks.append(chunk_dataframe)\n",
    "        print(chunk_dataframe)\n",
    "    conn.close()\n",
    "    data = pd.concat(chunks, ignore_index=True)\n",
    "\n",
    "    return data"
   ]
  },
  {
   "cell_type": "code",
   "execution_count": 11,
   "id": "b44faef9-6411-475f-a4b5-6ff5009a5e2a",
   "metadata": {},
   "outputs": [],
   "source": [
    "def load_features() -> pd.DataFrame:\n",
    "    query = \"v_patrakeev_all_posts\"\n",
    "    query2 = \"v_patrakeev_all_users\"\n",
    "    return batch_load_sql(query), batch_load_sql(query2)"
   ]
  },
  {
   "cell_type": "code",
   "execution_count": 13,
   "id": "ab7573c6-e15c-4ae2-9d15-826248f77e0d",
   "metadata": {},
   "outputs": [],
   "source": [
    "#posts, users = load_features()\n",
    "posts, users = pd.read_csv(\"data csv/post_feature_to_SQL_new\", sep=\";\"),pd.read_csv(\"data csv/user_feature_to_SQL_new\", sep=\";\")"
   ]
  },
  {
   "cell_type": "code",
   "execution_count": 14,
   "id": "18af507a-7f5a-4261-9625-b45d98565c24",
   "metadata": {},
   "outputs": [
    {
     "data": {
      "text/html": [
       "<div>\n",
       "<style scoped>\n",
       "    .dataframe tbody tr th:only-of-type {\n",
       "        vertical-align: middle;\n",
       "    }\n",
       "\n",
       "    .dataframe tbody tr th {\n",
       "        vertical-align: top;\n",
       "    }\n",
       "\n",
       "    .dataframe thead th {\n",
       "        text-align: right;\n",
       "    }\n",
       "</style>\n",
       "<table border=\"1\" class=\"dataframe\">\n",
       "  <thead>\n",
       "    <tr style=\"text-align: right;\">\n",
       "      <th></th>\n",
       "      <th>post_id</th>\n",
       "      <th>Topic</th>\n",
       "      <th>text_length</th>\n",
       "      <th>likes</th>\n",
       "      <th>posts_views</th>\n",
       "      <th>likes_share</th>\n",
       "    </tr>\n",
       "  </thead>\n",
       "  <tbody>\n",
       "    <tr>\n",
       "      <th>0</th>\n",
       "      <td>7319</td>\n",
       "      <td>10.733667</td>\n",
       "      <td>790</td>\n",
       "      <td>720.0</td>\n",
       "      <td>6585.0</td>\n",
       "      <td>10.0</td>\n",
       "    </tr>\n",
       "    <tr>\n",
       "      <th>1</th>\n",
       "      <td>7318</td>\n",
       "      <td>10.733667</td>\n",
       "      <td>728</td>\n",
       "      <td>680.0</td>\n",
       "      <td>6785.0</td>\n",
       "      <td>10.0</td>\n",
       "    </tr>\n",
       "    <tr>\n",
       "      <th>2</th>\n",
       "      <td>7317</td>\n",
       "      <td>10.733667</td>\n",
       "      <td>636</td>\n",
       "      <td>731.0</td>\n",
       "      <td>6803.0</td>\n",
       "      <td>10.0</td>\n",
       "    </tr>\n",
       "    <tr>\n",
       "      <th>3</th>\n",
       "      <td>7316</td>\n",
       "      <td>10.733667</td>\n",
       "      <td>800</td>\n",
       "      <td>677.0</td>\n",
       "      <td>6572.0</td>\n",
       "      <td>10.0</td>\n",
       "    </tr>\n",
       "    <tr>\n",
       "      <th>4</th>\n",
       "      <td>7315</td>\n",
       "      <td>10.733667</td>\n",
       "      <td>803</td>\n",
       "      <td>2619.0</td>\n",
       "      <td>16940.0</td>\n",
       "      <td>15.0</td>\n",
       "    </tr>\n",
       "  </tbody>\n",
       "</table>\n",
       "</div>"
      ],
      "text/plain": [
       "   post_id      Topic  text_length   likes  posts_views  likes_share\n",
       "0     7319  10.733667          790   720.0       6585.0         10.0\n",
       "1     7318  10.733667          728   680.0       6785.0         10.0\n",
       "2     7317  10.733667          636   731.0       6803.0         10.0\n",
       "3     7316  10.733667          800   677.0       6572.0         10.0\n",
       "4     7315  10.733667          803  2619.0      16940.0         15.0"
      ]
     },
     "execution_count": 14,
     "metadata": {},
     "output_type": "execute_result"
    }
   ],
   "source": [
    "posts.head()"
   ]
  },
  {
   "cell_type": "code",
   "execution_count": 15,
   "id": "2e84be77-124b-4367-b7cf-9d95f0068453",
   "metadata": {},
   "outputs": [
    {
     "data": {
      "text/html": [
       "<div>\n",
       "<style scoped>\n",
       "    .dataframe tbody tr th:only-of-type {\n",
       "        vertical-align: middle;\n",
       "    }\n",
       "\n",
       "    .dataframe tbody tr th {\n",
       "        vertical-align: top;\n",
       "    }\n",
       "\n",
       "    .dataframe thead th {\n",
       "        text-align: right;\n",
       "    }\n",
       "</style>\n",
       "<table border=\"1\" class=\"dataframe\">\n",
       "  <thead>\n",
       "    <tr style=\"text-align: right;\">\n",
       "      <th></th>\n",
       "      <th>user_id</th>\n",
       "      <th>age</th>\n",
       "      <th>City</th>\n",
       "      <th>business</th>\n",
       "      <th>covid</th>\n",
       "      <th>entertainment</th>\n",
       "      <th>movie</th>\n",
       "      <th>politics</th>\n",
       "      <th>sport</th>\n",
       "      <th>tech</th>\n",
       "      <th>views</th>\n",
       "      <th>ratio of likes posts</th>\n",
       "    </tr>\n",
       "  </thead>\n",
       "  <tbody>\n",
       "    <tr>\n",
       "      <th>0</th>\n",
       "      <td>168552</td>\n",
       "      <td>16</td>\n",
       "      <td>0.101590</td>\n",
       "      <td>0.138777</td>\n",
       "      <td>0.138045</td>\n",
       "      <td>0.141042</td>\n",
       "      <td>0.139542</td>\n",
       "      <td>0.131974</td>\n",
       "      <td>0.142722</td>\n",
       "      <td>0.116242</td>\n",
       "      <td>46.0</td>\n",
       "      <td>0.130435</td>\n",
       "    </tr>\n",
       "    <tr>\n",
       "      <th>1</th>\n",
       "      <td>168551</td>\n",
       "      <td>38</td>\n",
       "      <td>0.159781</td>\n",
       "      <td>0.138777</td>\n",
       "      <td>0.250000</td>\n",
       "      <td>0.400000</td>\n",
       "      <td>0.125000</td>\n",
       "      <td>0.000000</td>\n",
       "      <td>0.000000</td>\n",
       "      <td>0.000000</td>\n",
       "      <td>30.0</td>\n",
       "      <td>0.166667</td>\n",
       "    </tr>\n",
       "    <tr>\n",
       "      <th>2</th>\n",
       "      <td>168550</td>\n",
       "      <td>41</td>\n",
       "      <td>0.107315</td>\n",
       "      <td>0.138777</td>\n",
       "      <td>0.138045</td>\n",
       "      <td>0.141042</td>\n",
       "      <td>0.139542</td>\n",
       "      <td>0.131974</td>\n",
       "      <td>0.142722</td>\n",
       "      <td>0.116242</td>\n",
       "      <td>46.0</td>\n",
       "      <td>0.130435</td>\n",
       "    </tr>\n",
       "    <tr>\n",
       "      <th>3</th>\n",
       "      <td>168549</td>\n",
       "      <td>18</td>\n",
       "      <td>0.109604</td>\n",
       "      <td>0.000000</td>\n",
       "      <td>0.000000</td>\n",
       "      <td>0.000000</td>\n",
       "      <td>0.100000</td>\n",
       "      <td>0.000000</td>\n",
       "      <td>0.000000</td>\n",
       "      <td>0.000000</td>\n",
       "      <td>34.0</td>\n",
       "      <td>0.029412</td>\n",
       "    </tr>\n",
       "    <tr>\n",
       "      <th>4</th>\n",
       "      <td>168548</td>\n",
       "      <td>36</td>\n",
       "      <td>0.099558</td>\n",
       "      <td>0.138777</td>\n",
       "      <td>0.138045</td>\n",
       "      <td>0.141042</td>\n",
       "      <td>0.139542</td>\n",
       "      <td>0.131974</td>\n",
       "      <td>0.142722</td>\n",
       "      <td>0.116242</td>\n",
       "      <td>46.0</td>\n",
       "      <td>0.130435</td>\n",
       "    </tr>\n",
       "  </tbody>\n",
       "</table>\n",
       "</div>"
      ],
      "text/plain": [
       "   user_id  age      City  business     covid  entertainment     movie  \\\n",
       "0   168552   16  0.101590  0.138777  0.138045       0.141042  0.139542   \n",
       "1   168551   38  0.159781  0.138777  0.250000       0.400000  0.125000   \n",
       "2   168550   41  0.107315  0.138777  0.138045       0.141042  0.139542   \n",
       "3   168549   18  0.109604  0.000000  0.000000       0.000000  0.100000   \n",
       "4   168548   36  0.099558  0.138777  0.138045       0.141042  0.139542   \n",
       "\n",
       "   politics     sport      tech  views  ratio of likes posts  \n",
       "0  0.131974  0.142722  0.116242   46.0              0.130435  \n",
       "1  0.000000  0.000000  0.000000   30.0              0.166667  \n",
       "2  0.131974  0.142722  0.116242   46.0              0.130435  \n",
       "3  0.000000  0.000000  0.000000   34.0              0.029412  \n",
       "4  0.131974  0.142722  0.116242   46.0              0.130435  "
      ]
     },
     "execution_count": 15,
     "metadata": {},
     "output_type": "execute_result"
    }
   ],
   "source": [
    "users.head()"
   ]
  },
  {
   "cell_type": "markdown",
   "id": "207a11b3-5070-4f1e-bcd7-f116f21b2db9",
   "metadata": {},
   "source": [
    " **2) Исходные данные**\n",
    " * Вводим входные данные: юзер ( для которого будет предсказание, время запроса, лимит постов для рекомендаций) "
   ]
  },
  {
   "cell_type": "code",
   "execution_count": 37,
   "id": "83127be5-9294-468a-9542-4defcb56e820",
   "metadata": {},
   "outputs": [],
   "source": [
    "from datetime import datetime\n",
    "id = 10001\n",
    "time = datetime.now().strftime('%Y-%m-%d %H:%M:%S') #time recome\n",
    "limit = 5"
   ]
  },
  {
   "cell_type": "markdown",
   "id": "a3129215",
   "metadata": {},
   "source": [
    " **3) Список вcех постов, которые смотрел пользователь.**\n",
    " - Запрос в базу данных со всеми активностями (где у нас более 80 млн строr, быстро через SQL)"
   ]
  },
  {
   "cell_type": "code",
   "execution_count": 38,
   "id": "cb369c16-2b62-4cd5-b3b5-44cbe242f457",
   "metadata": {},
   "outputs": [],
   "source": [
    "user_action_view = list(pd.read_sql(\n",
    "     f\"\"\"\n",
    "     select *\n",
    "     from public.feed_data\n",
    "     where user_id = {id} AND action = 'view'\n",
    "         ;\"\"\",\n",
    "     con=SQLALCHEMY_DATABASE_URL\n",
    " )['post_id'])"
   ]
  },
  {
   "cell_type": "markdown",
   "id": "155c4842",
   "metadata": {},
   "source": [
    " **4) Список вcех постов, что у нас вообще есть**"
   ]
  },
  {
   "cell_type": "code",
   "execution_count": 40,
   "id": "2ee131df-7d2c-473f-ad6c-686badba827d",
   "metadata": {},
   "outputs": [],
   "source": [
    "all_posts = list(pd.read_sql(\n",
    "     f\"\"\"\n",
    "     select id\n",
    "     from public.posts\n",
    "         ;\"\"\",\n",
    "     con= SQLALCHEMY_DATABASE_URL\n",
    " )['id'])"
   ]
  },
  {
   "cell_type": "markdown",
   "id": "387b21fa",
   "metadata": {},
   "source": [
    " **5) Список постов, что пользователь не смотрел и мы ему можем их рекомендовать**"
   ]
  },
  {
   "cell_type": "code",
   "execution_count": 42,
   "id": "c5b8d80e-8379-4cb9-8319-d58f87a883c0",
   "metadata": {},
   "outputs": [],
   "source": [
    "spisok_posts = list(set(all_posts) - set(user_action_view))"
   ]
  },
  {
   "cell_type": "markdown",
   "id": "c9aed513",
   "metadata": {},
   "source": [
    " **6) Дата фрейм (каркас) для дополнения его признакми по пользователю постам и вероятностями того или иного поста**"
   ]
  },
  {
   "cell_type": "code",
   "execution_count": 43,
   "id": "655073bc-7d33-4ea9-9675-830787a80e01",
   "metadata": {},
   "outputs": [],
   "source": [
    "df = pd.DataFrame({'user_id': id,\n",
    "                   'post_id': spisok_posts,\n",
    "                   'time': time})"
   ]
  },
  {
   "cell_type": "code",
   "execution_count": 44,
   "id": "76f0d52f-9be5-4a92-bfeb-91ba9182ec92",
   "metadata": {},
   "outputs": [
    {
     "data": {
      "text/html": [
       "<div>\n",
       "<style scoped>\n",
       "    .dataframe tbody tr th:only-of-type {\n",
       "        vertical-align: middle;\n",
       "    }\n",
       "\n",
       "    .dataframe tbody tr th {\n",
       "        vertical-align: top;\n",
       "    }\n",
       "\n",
       "    .dataframe thead th {\n",
       "        text-align: right;\n",
       "    }\n",
       "</style>\n",
       "<table border=\"1\" class=\"dataframe\">\n",
       "  <thead>\n",
       "    <tr style=\"text-align: right;\">\n",
       "      <th></th>\n",
       "      <th>user_id</th>\n",
       "      <th>post_id</th>\n",
       "      <th>time</th>\n",
       "      <th>Topic</th>\n",
       "      <th>text_length</th>\n",
       "      <th>likes</th>\n",
       "      <th>posts_views</th>\n",
       "      <th>likes_share</th>\n",
       "      <th>age</th>\n",
       "      <th>City</th>\n",
       "      <th>business</th>\n",
       "      <th>covid</th>\n",
       "      <th>entertainment</th>\n",
       "      <th>movie</th>\n",
       "      <th>politics</th>\n",
       "      <th>sport</th>\n",
       "      <th>tech</th>\n",
       "      <th>views</th>\n",
       "      <th>ratio of likes posts</th>\n",
       "    </tr>\n",
       "  </thead>\n",
       "  <tbody>\n",
       "    <tr>\n",
       "      <th>0</th>\n",
       "      <td>10001</td>\n",
       "      <td>1</td>\n",
       "      <td>2023-10-26 13:19:18</td>\n",
       "      <td>10.513725</td>\n",
       "      <td>1967</td>\n",
       "      <td>1067.0</td>\n",
       "      <td>8508.0</td>\n",
       "      <td>12.0</td>\n",
       "      <td>26</td>\n",
       "      <td>0.141995</td>\n",
       "      <td>0.138777</td>\n",
       "      <td>0.138045</td>\n",
       "      <td>0.141042</td>\n",
       "      <td>0.139542</td>\n",
       "      <td>0.131974</td>\n",
       "      <td>0.142722</td>\n",
       "      <td>0.116242</td>\n",
       "      <td>46.0</td>\n",
       "      <td>0.130435</td>\n",
       "    </tr>\n",
       "    <tr>\n",
       "      <th>1</th>\n",
       "      <td>10001</td>\n",
       "      <td>2</td>\n",
       "      <td>2023-10-26 13:19:18</td>\n",
       "      <td>10.513725</td>\n",
       "      <td>2701</td>\n",
       "      <td>637.0</td>\n",
       "      <td>7495.0</td>\n",
       "      <td>8.0</td>\n",
       "      <td>26</td>\n",
       "      <td>0.141995</td>\n",
       "      <td>0.138777</td>\n",
       "      <td>0.138045</td>\n",
       "      <td>0.141042</td>\n",
       "      <td>0.139542</td>\n",
       "      <td>0.131974</td>\n",
       "      <td>0.142722</td>\n",
       "      <td>0.116242</td>\n",
       "      <td>46.0</td>\n",
       "      <td>0.130435</td>\n",
       "    </tr>\n",
       "    <tr>\n",
       "      <th>2</th>\n",
       "      <td>10001</td>\n",
       "      <td>3</td>\n",
       "      <td>2023-10-26 13:19:18</td>\n",
       "      <td>10.513725</td>\n",
       "      <td>3408</td>\n",
       "      <td>1122.0</td>\n",
       "      <td>8412.0</td>\n",
       "      <td>13.0</td>\n",
       "      <td>26</td>\n",
       "      <td>0.141995</td>\n",
       "      <td>0.138777</td>\n",
       "      <td>0.138045</td>\n",
       "      <td>0.141042</td>\n",
       "      <td>0.139542</td>\n",
       "      <td>0.131974</td>\n",
       "      <td>0.142722</td>\n",
       "      <td>0.116242</td>\n",
       "      <td>46.0</td>\n",
       "      <td>0.130435</td>\n",
       "    </tr>\n",
       "    <tr>\n",
       "      <th>3</th>\n",
       "      <td>10001</td>\n",
       "      <td>4</td>\n",
       "      <td>2023-10-26 13:19:18</td>\n",
       "      <td>10.513725</td>\n",
       "      <td>1026</td>\n",
       "      <td>1171.0</td>\n",
       "      <td>8158.0</td>\n",
       "      <td>14.0</td>\n",
       "      <td>26</td>\n",
       "      <td>0.141995</td>\n",
       "      <td>0.138777</td>\n",
       "      <td>0.138045</td>\n",
       "      <td>0.141042</td>\n",
       "      <td>0.139542</td>\n",
       "      <td>0.131974</td>\n",
       "      <td>0.142722</td>\n",
       "      <td>0.116242</td>\n",
       "      <td>46.0</td>\n",
       "      <td>0.130435</td>\n",
       "    </tr>\n",
       "    <tr>\n",
       "      <th>4</th>\n",
       "      <td>10001</td>\n",
       "      <td>5</td>\n",
       "      <td>2023-10-26 13:19:18</td>\n",
       "      <td>10.513725</td>\n",
       "      <td>889</td>\n",
       "      <td>1153.0</td>\n",
       "      <td>8583.0</td>\n",
       "      <td>13.0</td>\n",
       "      <td>26</td>\n",
       "      <td>0.141995</td>\n",
       "      <td>0.138777</td>\n",
       "      <td>0.138045</td>\n",
       "      <td>0.141042</td>\n",
       "      <td>0.139542</td>\n",
       "      <td>0.131974</td>\n",
       "      <td>0.142722</td>\n",
       "      <td>0.116242</td>\n",
       "      <td>46.0</td>\n",
       "      <td>0.130435</td>\n",
       "    </tr>\n",
       "  </tbody>\n",
       "</table>\n",
       "</div>"
      ],
      "text/plain": [
       "   user_id  post_id                 time      Topic  text_length   likes  \\\n",
       "0    10001        1  2023-10-26 13:19:18  10.513725         1967  1067.0   \n",
       "1    10001        2  2023-10-26 13:19:18  10.513725         2701   637.0   \n",
       "2    10001        3  2023-10-26 13:19:18  10.513725         3408  1122.0   \n",
       "3    10001        4  2023-10-26 13:19:18  10.513725         1026  1171.0   \n",
       "4    10001        5  2023-10-26 13:19:18  10.513725          889  1153.0   \n",
       "\n",
       "   posts_views  likes_share  age      City  business     covid  entertainment  \\\n",
       "0       8508.0         12.0   26  0.141995  0.138777  0.138045       0.141042   \n",
       "1       7495.0          8.0   26  0.141995  0.138777  0.138045       0.141042   \n",
       "2       8412.0         13.0   26  0.141995  0.138777  0.138045       0.141042   \n",
       "3       8158.0         14.0   26  0.141995  0.138777  0.138045       0.141042   \n",
       "4       8583.0         13.0   26  0.141995  0.138777  0.138045       0.141042   \n",
       "\n",
       "      movie  politics     sport      tech  views  ratio of likes posts  \n",
       "0  0.139542  0.131974  0.142722  0.116242   46.0              0.130435  \n",
       "1  0.139542  0.131974  0.142722  0.116242   46.0              0.130435  \n",
       "2  0.139542  0.131974  0.142722  0.116242   46.0              0.130435  \n",
       "3  0.139542  0.131974  0.142722  0.116242   46.0              0.130435  \n",
       "4  0.139542  0.131974  0.142722  0.116242   46.0              0.130435  "
      ]
     },
     "execution_count": 44,
     "metadata": {},
     "output_type": "execute_result"
    }
   ],
   "source": [
    "#7 add our features from download early\n",
    "df = df.merge(posts,how='left',left_on='post_id', right_on='post_id')\n",
    "df = df.merge(users,how='left',left_on='user_id', right_on='user_id')\n",
    "df.head()"
   ]
  },
  {
   "cell_type": "markdown",
   "id": "3c92394f",
   "metadata": {},
   "source": [
    " **7) Загрука моделей**"
   ]
  },
  {
   "cell_type": "code",
   "execution_count": 51,
   "id": "707203e7-cd8b-45ce-bafc-512bf12368d1",
   "metadata": {},
   "outputs": [],
   "source": [
    "#8 download our save model\n",
    "from catboost import CatBoostClassifier\n",
    "\n",
    "model = CatBoostClassifier()\n",
    "model = model.load_model('Models/model_second_catboost', format=\"cbm\")"
   ]
  },
  {
   "cell_type": "markdown",
   "id": "d3421953",
   "metadata": {},
   "source": [
    " **8) Предсказание**"
   ]
  },
  {
   "cell_type": "code",
   "execution_count": 57,
   "id": "dfac5896-2494-4420-90ff-1286250ddcd6",
   "metadata": {},
   "outputs": [],
   "source": [
    "pred = pd.DataFrame(model.predict_proba(df.drop(columns=['user_id','post_id', 'time']))[:, 1], columns=[\"predict\"])"
   ]
  },
  {
   "cell_type": "markdown",
   "id": "72579c47",
   "metadata": {},
   "source": [
    " **9) Добавление предсказаний к каждому посту, который не смотрел пользователь**"
   ]
  },
  {
   "cell_type": "code",
   "execution_count": 54,
   "id": "d967024d-7fbe-4bbc-98c0-346169343364",
   "metadata": {},
   "outputs": [],
   "source": [
    "#add our\n",
    "df = pd.concat([df, pred], axis=1)"
   ]
  },
  {
   "cell_type": "markdown",
   "id": "d92a56fc",
   "metadata": {},
   "source": [
    " **10) Сортировка**"
   ]
  },
  {
   "cell_type": "code",
   "execution_count": 60,
   "id": "fb9ada59-4261-4b57-ab37-b5614abc2ef5",
   "metadata": {},
   "outputs": [],
   "source": [
    "df = df.sort_values(by=[\"predict\"], ascending=False)"
   ]
  },
  {
   "cell_type": "markdown",
   "id": "06360806",
   "metadata": {},
   "source": [
    "**11) Вывод 5 посстов ( их ID)**"
   ]
  },
  {
   "cell_type": "code",
   "execution_count": 61,
   "id": "a006d9dd-9b22-45fd-a529-77b3653140fe",
   "metadata": {},
   "outputs": [
    {
     "data": {
      "text/plain": [
       "(2013, 2070, 2148, 2087, 2166)"
      ]
     },
     "execution_count": 61,
     "metadata": {},
     "output_type": "execute_result"
    }
   ],
   "source": [
    "spisok = tuple(df[\"post_id\"].head(limit).tolist())\n",
    "spisok"
   ]
  },
  {
   "cell_type": "markdown",
   "id": "26d1b634",
   "metadata": {},
   "source": [
    "**12) Вывод датафрейма с постами и их описанием**"
   ]
  },
  {
   "cell_type": "code",
   "execution_count": 62,
   "id": "7e86cb33-1748-487a-a56d-f71ca2767e81",
   "metadata": {},
   "outputs": [],
   "source": [
    "post_top5_spisok = pd.read_sql(\n",
    "    f\"\"\"\n",
    "     select *\n",
    "     from public.post\n",
    "     where id IN {spisok}\n",
    "\n",
    "         ;\"\"\",\n",
    "     con=\"postgresql://robot-startml-ro:pheiph0hahj1Vaif@\"\n",
    "         \"postgres.lab.karpov.courses:6432/startml\"\n",
    " )\n"
   ]
  },
  {
   "cell_type": "code",
   "execution_count": 63,
   "id": "a1d0524b-033a-4df7-aeba-0bbf616b45b4",
   "metadata": {},
   "outputs": [
    {
     "data": {
      "text/html": [
       "<div>\n",
       "<style scoped>\n",
       "    .dataframe tbody tr th:only-of-type {\n",
       "        vertical-align: middle;\n",
       "    }\n",
       "\n",
       "    .dataframe tbody tr th {\n",
       "        vertical-align: top;\n",
       "    }\n",
       "\n",
       "    .dataframe thead th {\n",
       "        text-align: right;\n",
       "    }\n",
       "</style>\n",
       "<table border=\"1\" class=\"dataframe\">\n",
       "  <thead>\n",
       "    <tr style=\"text-align: right;\">\n",
       "      <th></th>\n",
       "      <th>id</th>\n",
       "      <th>text</th>\n",
       "      <th>topic</th>\n",
       "    </tr>\n",
       "  </thead>\n",
       "  <tbody>\n",
       "    <tr>\n",
       "      <th>0</th>\n",
       "      <td>2013</td>\n",
       "      <td>Call for action on internet scam\\n\\nPhone comp...</td>\n",
       "      <td>tech</td>\n",
       "    </tr>\n",
       "    <tr>\n",
       "      <th>1</th>\n",
       "      <td>2070</td>\n",
       "      <td>Who do you think you are?\\n\\nThe real danger i...</td>\n",
       "      <td>tech</td>\n",
       "    </tr>\n",
       "    <tr>\n",
       "      <th>2</th>\n",
       "      <td>2087</td>\n",
       "      <td>Podcasters look to net money\\n\\nNasa is doing ...</td>\n",
       "      <td>tech</td>\n",
       "    </tr>\n",
       "    <tr>\n",
       "      <th>3</th>\n",
       "      <td>2148</td>\n",
       "      <td>No half measures with Half-Life 2\\n\\nCould Hal...</td>\n",
       "      <td>tech</td>\n",
       "    </tr>\n",
       "    <tr>\n",
       "      <th>4</th>\n",
       "      <td>2166</td>\n",
       "      <td>Football Manager scores big time\\n\\nFor the pa...</td>\n",
       "      <td>tech</td>\n",
       "    </tr>\n",
       "  </tbody>\n",
       "</table>\n",
       "</div>"
      ],
      "text/plain": [
       "     id                                               text topic\n",
       "0  2013  Call for action on internet scam\\n\\nPhone comp...  tech\n",
       "1  2070  Who do you think you are?\\n\\nThe real danger i...  tech\n",
       "2  2087  Podcasters look to net money\\n\\nNasa is doing ...  tech\n",
       "3  2148  No half measures with Half-Life 2\\n\\nCould Hal...  tech\n",
       "4  2166  Football Manager scores big time\\n\\nFor the pa...  tech"
      ]
     },
     "execution_count": 63,
     "metadata": {},
     "output_type": "execute_result"
    }
   ],
   "source": [
    "post_top5_spisok"
   ]
  }
 ],
 "metadata": {
  "kernelspec": {
   "display_name": "Python 3 (ipykernel)",
   "language": "python",
   "name": "python3"
  },
  "language_info": {
   "codemirror_mode": {
    "name": "ipython",
    "version": 3
   },
   "file_extension": ".py",
   "mimetype": "text/x-python",
   "name": "python",
   "nbconvert_exporter": "python",
   "pygments_lexer": "ipython3",
   "version": "3.9.13"
  }
 },
 "nbformat": 4,
 "nbformat_minor": 5
}
